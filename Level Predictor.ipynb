{
 "cells": [
  {
   "cell_type": "code",
   "execution_count": 96,
   "metadata": {},
   "outputs": [],
   "source": [
    "%matplotlib inline\n",
    "import matplotlib.pyplot as plt\n",
    "import numpy as np\n",
    "import sklearn\n",
    "import pandas as pd\n",
    "from sklearn.model_selection import train_test_split\n",
    "from sklearn.preprocessing import MinMaxScaler\n",
    "from tensorflow.keras.utils import to_categorical\n",
    "from tensorflow.keras.models import Sequential\n",
    "from tensorflow.keras.layers import Dense\n",
    "from sklearn.ensemble import RandomForestClassifier\n",
    "from sklearn import tree\n"
   ]
  },
  {
   "cell_type": "code",
   "execution_count": 118,
   "metadata": {},
   "outputs": [],
   "source": [
    "#import the data\n",
    "final = pd.read_csv('temp.csv')\n",
    "\n",
    "final = final.dropna()"
   ]
  },
  {
   "cell_type": "code",
   "execution_count": 91,
   "metadata": {},
   "outputs": [],
   "source": [
    "# final = final[final.Level == 1]"
   ]
  },
  {
   "cell_type": "code",
   "execution_count": 124,
   "metadata": {},
   "outputs": [],
   "source": [
    "#Split it into X and Y\n",
    "X = final[['Age', 'Level', 'AVG', 'OBP', 'SLG', 'OPS',\n",
    "       'ISO', 'BB%', 'K%', 'SB%']]\n",
    "y = final.HiLvl"
   ]
  },
  {
   "cell_type": "code",
   "execution_count": 123,
   "metadata": {},
   "outputs": [
    {
     "data": {
      "text/plain": [
       "array(['0', '1', '2'], dtype=object)"
      ]
     },
     "execution_count": 123,
     "metadata": {},
     "output_type": "execute_result"
    }
   ],
   "source": [
    "final.HiLvl.unique()"
   ]
  },
  {
   "cell_type": "code",
   "execution_count": 122,
   "metadata": {},
   "outputs": [],
   "source": [
    "final.HiLvl = final.HiLvl.replace(['AA'], '2')"
   ]
  },
  {
   "cell_type": "code",
   "execution_count": 125,
   "metadata": {},
   "outputs": [],
   "source": [
    "# Use train_test_split to create training and testing data\n",
    "X_train, X_test, y_train, y_test = train_test_split(X, y, random_state=1)"
   ]
  },
  {
   "cell_type": "code",
   "execution_count": 126,
   "metadata": {},
   "outputs": [
    {
     "name": "stderr",
     "output_type": "stream",
     "text": [
      "C:\\Users\\alana\\Anaconda3\\lib\\site-packages\\sklearn\\preprocessing\\data.py:323: DataConversionWarning: Data with input dtype int64, float64 were all converted to float64 by MinMaxScaler.\n",
      "  return self.partial_fit(X, y)\n"
     ]
    }
   ],
   "source": [
    "# Create a StandardScaler model and fit it to the training data\n",
    "X_scaler = MinMaxScaler().fit(X_train)"
   ]
  },
  {
   "cell_type": "code",
   "execution_count": 127,
   "metadata": {},
   "outputs": [],
   "source": [
    "# Transform the training and testing data using the X_scaler\n",
    "X_train_scaled = X_scaler.transform(X_train)\n",
    "X_test_scaled = X_scaler.transform(X_test)"
   ]
  },
  {
   "cell_type": "code",
   "execution_count": 128,
   "metadata": {},
   "outputs": [],
   "source": [
    "# One-hot encoding\n",
    "y_train_categorical = to_categorical(y_train)\n",
    "y_test_categorical = to_categorical(y_test)"
   ]
  },
  {
   "cell_type": "code",
   "execution_count": 132,
   "metadata": {},
   "outputs": [],
   "source": [
    "# create a normal neural network with 31 inputs, \n",
    "# 31 hidden nodes in the first layer, \n",
    "# 26 in the second and 2 outputs\n",
    "\n",
    "model = Sequential()\n",
    "model.add(Dense(units=10, activation='relu', input_dim=10))\n",
    "# model.add(Dense(units=10, activation='relu'))\n",
    "model.add(Dense(units=3, activation='sigmoid'))"
   ]
  },
  {
   "cell_type": "code",
   "execution_count": 133,
   "metadata": {},
   "outputs": [],
   "source": [
    "# Compile the model\n",
    "model.compile(optimizer='adam',\n",
    "              loss='categorical_crossentropy',\n",
    "              metrics=['accuracy'])"
   ]
  },
  {
   "cell_type": "code",
   "execution_count": 134,
   "metadata": {},
   "outputs": [
    {
     "name": "stdout",
     "output_type": "stream",
     "text": [
      "Epoch 1/50\n",
      " - 1s - loss: 0.7979 - acc: 0.6301\n",
      "Epoch 2/50\n",
      " - 1s - loss: 0.7047 - acc: 0.6768\n",
      "Epoch 3/50\n",
      " - 1s - loss: 0.6907 - acc: 0.6830\n",
      "Epoch 4/50\n",
      " - 1s - loss: 0.6833 - acc: 0.6853\n",
      "Epoch 5/50\n",
      " - 1s - loss: 0.6797 - acc: 0.6826\n",
      "Epoch 6/50\n",
      " - 1s - loss: 0.6780 - acc: 0.6814\n",
      "Epoch 7/50\n",
      " - 1s - loss: 0.6769 - acc: 0.6821\n",
      "Epoch 8/50\n",
      " - 1s - loss: 0.6762 - acc: 0.6840\n",
      "Epoch 9/50\n",
      " - 1s - loss: 0.6755 - acc: 0.6826\n",
      "Epoch 10/50\n",
      " - 1s - loss: 0.6748 - acc: 0.6838\n",
      "Epoch 11/50\n",
      " - 1s - loss: 0.6752 - acc: 0.6840\n",
      "Epoch 12/50\n",
      " - 1s - loss: 0.6746 - acc: 0.6845\n",
      "Epoch 13/50\n",
      " - 1s - loss: 0.6742 - acc: 0.6826\n",
      "Epoch 14/50\n",
      " - 1s - loss: 0.6743 - acc: 0.6823\n",
      "Epoch 15/50\n",
      " - 1s - loss: 0.6739 - acc: 0.6847\n",
      "Epoch 16/50\n",
      " - 1s - loss: 0.6740 - acc: 0.6822\n",
      "Epoch 17/50\n",
      " - 1s - loss: 0.6740 - acc: 0.6825\n",
      "Epoch 18/50\n",
      " - 1s - loss: 0.6737 - acc: 0.6842\n",
      "Epoch 19/50\n",
      " - 1s - loss: 0.6735 - acc: 0.6831\n",
      "Epoch 20/50\n",
      " - 1s - loss: 0.6734 - acc: 0.6849\n",
      "Epoch 21/50\n",
      " - 1s - loss: 0.6732 - acc: 0.6830\n",
      "Epoch 22/50\n",
      " - 1s - loss: 0.6732 - acc: 0.6837\n",
      "Epoch 23/50\n",
      " - 1s - loss: 0.6730 - acc: 0.6842\n",
      "Epoch 24/50\n",
      " - 1s - loss: 0.6730 - acc: 0.6862\n",
      "Epoch 25/50\n",
      " - 1s - loss: 0.6730 - acc: 0.6844\n",
      "Epoch 26/50\n",
      " - 1s - loss: 0.6724 - acc: 0.6846\n",
      "Epoch 27/50\n",
      " - 1s - loss: 0.6719 - acc: 0.6847\n",
      "Epoch 28/50\n",
      " - 1s - loss: 0.6707 - acc: 0.6857\n",
      "Epoch 29/50\n",
      " - 1s - loss: 0.6691 - acc: 0.6852\n",
      "Epoch 30/50\n",
      " - 1s - loss: 0.6672 - acc: 0.6865\n",
      "Epoch 31/50\n",
      " - 1s - loss: 0.6649 - acc: 0.6870\n",
      "Epoch 32/50\n",
      " - 1s - loss: 0.6622 - acc: 0.6913\n",
      "Epoch 33/50\n",
      " - 1s - loss: 0.6598 - acc: 0.6916\n",
      "Epoch 34/50\n",
      " - 1s - loss: 0.6571 - acc: 0.6935\n",
      "Epoch 35/50\n",
      " - 1s - loss: 0.6545 - acc: 0.6965\n",
      "Epoch 36/50\n",
      " - 1s - loss: 0.6519 - acc: 0.6965\n",
      "Epoch 37/50\n",
      " - 1s - loss: 0.6499 - acc: 0.6972\n",
      "Epoch 38/50\n",
      " - 1s - loss: 0.6479 - acc: 0.6996\n",
      "Epoch 39/50\n",
      " - 1s - loss: 0.6459 - acc: 0.7001\n",
      "Epoch 40/50\n",
      " - 1s - loss: 0.6442 - acc: 0.7014\n",
      "Epoch 41/50\n",
      " - 1s - loss: 0.6429 - acc: 0.7025\n",
      "Epoch 42/50\n",
      " - 1s - loss: 0.6415 - acc: 0.7041\n",
      "Epoch 43/50\n",
      " - 1s - loss: 0.6401 - acc: 0.7038\n",
      "Epoch 44/50\n",
      " - 1s - loss: 0.6386 - acc: 0.7054\n",
      "Epoch 45/50\n",
      " - 1s - loss: 0.6377 - acc: 0.7074\n",
      "Epoch 46/50\n",
      " - 1s - loss: 0.6368 - acc: 0.7074\n",
      "Epoch 47/50\n",
      " - 1s - loss: 0.6357 - acc: 0.7083\n",
      "Epoch 48/50\n",
      " - 1s - loss: 0.6344 - acc: 0.7085\n",
      "Epoch 49/50\n",
      " - 1s - loss: 0.6340 - acc: 0.7100\n",
      "Epoch 50/50\n",
      " - 1s - loss: 0.6336 - acc: 0.7094\n"
     ]
    },
    {
     "data": {
      "text/plain": [
       "<tensorflow.python.keras.callbacks.History at 0x1c518884a58>"
      ]
     },
     "execution_count": 134,
     "metadata": {},
     "output_type": "execute_result"
    }
   ],
   "source": [
    "# Fit the model to the training data\n",
    "model.fit(\n",
    "    X_train_scaled,\n",
    "    y_train_categorical,\n",
    "    epochs=50,\n",
    "    shuffle=True,\n",
    "    verbose=2\n",
    ")"
   ]
  },
  {
   "cell_type": "code",
   "execution_count": 135,
   "metadata": {},
   "outputs": [
    {
     "name": "stdout",
     "output_type": "stream",
     "text": [
      " - 0s - loss: 0.6228 - acc: 0.7122\n",
      "Neural Network - Loss: 0.6228348250418124, Accuracy: 0.7121932506561279\n"
     ]
    }
   ],
   "source": [
    "# See how it did.\n",
    "\n",
    "model_loss, model_accuracy = model.evaluate(\n",
    "    X_test_scaled, y_test_categorical, verbose=2)\n",
    "print(\n",
    "    f\"Neural Network - Loss: {model_loss}, Accuracy: {model_accuracy}\")"
   ]
  },
  {
   "cell_type": "code",
   "execution_count": 136,
   "metadata": {},
   "outputs": [
    {
     "data": {
      "text/plain": [
       "0.7023016929807875"
      ]
     },
     "execution_count": 136,
     "metadata": {},
     "output_type": "execute_result"
    }
   ],
   "source": [
    "# Random forest Test\n",
    "rf = RandomForestClassifier(n_estimators=200)\n",
    "rf = rf.fit(X_train, y_train)\n",
    "rf.score(X_test, y_test)"
   ]
  },
  {
   "cell_type": "code",
   "execution_count": 137,
   "metadata": {},
   "outputs": [
    {
     "data": {
      "text/plain": [
       "0.6180330987255088"
      ]
     },
     "execution_count": 137,
     "metadata": {},
     "output_type": "execute_result"
    }
   ],
   "source": [
    "#Decision Tree Classifier\n",
    "clf = tree.DecisionTreeClassifier()\n",
    "clf = clf.fit(X_train, y_train)\n",
    "clf.score(X_test, y_test)"
   ]
  },
  {
   "cell_type": "code",
   "execution_count": 138,
   "metadata": {},
   "outputs": [
    {
     "data": {
      "text/plain": [
       "array([[1.6480136e-01, 1.8487722e-02, 5.4538250e-06],\n",
       "       [9.2693835e-02, 3.6410540e-02, 3.8295984e-05],\n",
       "       [1.5077525e-01, 4.4618368e-02, 2.0265579e-05],\n",
       "       [1.3277507e-01, 4.5271724e-02, 2.5779009e-05],\n",
       "       [8.5592486e-02, 4.9746923e-02, 1.9453593e-02]], dtype=float32)"
      ]
     },
     "execution_count": 138,
     "metadata": {},
     "output_type": "execute_result"
    }
   ],
   "source": [
    "model.predict(X_test_scaled[:5])"
   ]
  },
  {
   "cell_type": "code",
   "execution_count": null,
   "metadata": {},
   "outputs": [],
   "source": []
  }
 ],
 "metadata": {
  "kernelspec": {
   "display_name": "Python 3",
   "language": "python",
   "name": "python3"
  },
  "language_info": {
   "codemirror_mode": {
    "name": "ipython",
    "version": 3
   },
   "file_extension": ".py",
   "mimetype": "text/x-python",
   "name": "python",
   "nbconvert_exporter": "python",
   "pygments_lexer": "ipython3",
   "version": "3.7.1"
  }
 },
 "nbformat": 4,
 "nbformat_minor": 2
}
