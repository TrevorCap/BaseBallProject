{
 "cells": [
  {
   "cell_type": "code",
   "execution_count": 1,
   "metadata": {},
   "outputs": [],
   "source": [
    "import numpy as np\n",
    "import pandas as pd\n",
    "from sklearn.ensemble import RandomForestClassifier\n",
    "import sqlite3\n",
    "import pickle"
   ]
  },
  {
   "cell_type": "code",
   "execution_count": 2,
   "metadata": {},
   "outputs": [],
   "source": [
    "con = sqlite3.connect(\"sqlite:///../Models/2019.sqlite\")\n",
    "cur = con.cursor()"
   ]
  },
  {
   "cell_type": "code",
   "execution_count": 4,
   "metadata": {},
   "outputs": [],
   "source": [
    "C = pd.read_csv(\"Resources/19C.csv\")\n",
    "first = pd.read_csv(\"Resources/191B.csv\")\n",
    "second = pd.read_csv(\"Resources/192B.csv\")\n",
    "short = pd.read_csv(\"Resources/19SS.csv\")\n",
    "third = pd.read_csv(\"Resources/193B.csv\")\n",
    "OF = pd.read_csv(\"Resources/19OF.csv\")"
   ]
  },
  {
   "cell_type": "code",
   "execution_count": 5,
   "metadata": {},
   "outputs": [],
   "source": [
    "total = C\n",
    "total = total.append(first)\n",
    "total = total.append(second)\n",
    "total = total.append(short)\n",
    "total = total.append(third)\n",
    "total = total.append(OF)"
   ]
  },
  {
   "cell_type": "code",
   "execution_count": 57,
   "metadata": {},
   "outputs": [],
   "source": [
    "leveler = {'A+':3, 'A': 4, 'R':6, 'A-':5, 'AAA': 1, 'AA':2, 'MLB': 0}\n",
    "releveler = {3:'A+', 4:'A', 6:'Rk', 5:'A-', 1: 'AAA', 2 : 'AA', 0: 'MLB'}"
   ]
  },
  {
   "cell_type": "code",
   "execution_count": 7,
   "metadata": {},
   "outputs": [],
   "source": [
    "total.to_csv('Resources/total19.csv')"
   ]
  },
  {
   "cell_type": "code",
   "execution_count": 8,
   "metadata": {},
   "outputs": [],
   "source": [
    "total = pd.read_csv('Resources/total19.csv')"
   ]
  },
  {
   "cell_type": "code",
   "execution_count": 10,
   "metadata": {},
   "outputs": [],
   "source": [
    "positAdjuster = {'P' : 0, 'SS': 7.5, '2B': 2.5, 'OF': -7.5, '3B-2B': 2.5, '2B-3B': 2.5, 'SS-2B': 7.5, '3B': 2.5, 'OF-1B': -7.5,\n",
    "'C': 12.5, 'OF-2B': 2.5, '2B-OF': 2.5, '1B': -12.5, 'UTL': 0, 'C-1B': 12.5, '3B-C': 12.5, 'C-3B': 12.5,\n",
    "'3B-SS': 7.5, 'IF': 2.5, 'OF-3B': 2.5, 'OF-P': -7.5, 'SS-3B': 7.5, '1B-OF': -7.5, '3B-OF': 2.5, '1B-P': -12.5,\n",
    "'P-C': 12.5, 'P-OF': -7.5, '2B-SS': 7.5, '2B-P': 2.5, '3B-1B': 2.5, 'P-1B': -12.5, 'OF-C': 12.5, '1B-3B': 2.5,\n",
    "'P-3B': 2.5, 'C-OF': 12.5, '1B-C': 12.5, 'P-IF': 2.5, 'OF-SS': 7.5, '3B-P': 2.5, 'SS-OF': 7.5, '2B-C': 12.5,\n",
    "'SS-P': 7.5, 'H': 0, 'LF': -7.5, 'P-2B': 2.5, 'C-2B': 12.5, 'C-P': 12.5, 'RF': -7.5, 'CF': 2.5, 'RF-LF': -7.5,\n",
    "'LF-CF': 2.5, 'LF-RF': -7.5, 'LF-2B': 2.5, '2B-LF': 2.5, 'CF-RF': 2.5, 'OF-DH': -7.5, '1B-LF': -7.5,\n",
    "'CF-LF': 2.5, 'LF-1B': -7.5, '1B-DH': -12.5, 'LF-OF': -7.5, '1B-2B': 2.5, 'DH': -17.5, 'C-DH': 12.5, 'RF-CF': -7.5,\n",
    "'RF-OF': -7.5, 'DH-OF': -7.5, 'DH-CF': 2.5, '2B-CF': 2.5, 'RF-1B': -7.5, 'DH-1B': -12.5, 'SS-CF': 7.5,\n",
    "'CF-OF': 2.5, '1B-RF': -7.5, '1B-SS': 7.5, 'DH-3B': 2.5, 'C-IF': 12.5, '3B-LF': 2.5, 'CF-3B': 2.5,\n",
    "'2B-1B': 2.5, 'RF-3B': 2.5, 'IF-P': 2.5, 'CF-2B': 2.5, '3B-RF': 2.5, 'SS-1B': 7.5, 'IF-C': 12.5,\n",
    "'SS-C': 12.5, 'LF-C': 12.5, '3B-DH': 2.5, 'SS-LF': 7.5, 'INF': 2.5, 'RF-2B': 2.5, 'C-LF': 12.5, 'P-SS': 7.5,\n",
    "'CF-1B': 2.5, 'C-SS': 12.5, 'LF-SS': 7.5, 'C-RF': 12.5, '3B-CF': 2.5, 'P-DH': -17.5, '2B-RF': 2.5,\n",
    "'LF-3B': 2.5, 'CF-SS': 7.5, 'SS-RF': 7.5, 'DH-LF': -7.5, 'RF-P': -7.5, 'DH-C': 12.5, 'P-LF': -7.5, 'UT-P': 0,\n",
    "'LF-DH': -7.5, 'RF-C': 12.5}"
   ]
  },
  {
   "cell_type": "code",
   "execution_count": 13,
   "metadata": {},
   "outputs": [],
   "source": [
    "total['Def'] = total.Position\n",
    "total = total.replace({\"Def\" : positAdjuster})"
   ]
  },
  {
   "cell_type": "code",
   "execution_count": 15,
   "metadata": {},
   "outputs": [],
   "source": [
    "data = total"
   ]
  },
  {
   "cell_type": "code",
   "execution_count": 16,
   "metadata": {},
   "outputs": [],
   "source": [
    "data['BABIP'] = (data.H - data.HR) / (data.AB - data.SO - data.HR + data.SF)\n",
    "data['SB%'] = data.SB / (data.SB + data.CS)\n",
    "data['SB%'] = data['SB%'].fillna(0)\n",
    "data['SLG'] = (data['1B'] + (data['2B'] *2) + (data['3B'] * 3) + (data.HR * 4))/ data.AB\n",
    "data['BB%'] = (data.BB + data.IBB) / data.PA\n",
    "data['K%'] = data.SO / data.PA\n",
    "data['ISO'] = data.SLG - data.AVG"
   ]
  },
  {
   "cell_type": "code",
   "execution_count": 28,
   "metadata": {},
   "outputs": [
    {
     "name": "stderr",
     "output_type": "stream",
     "text": [
      "C:\\Users\\alana\\Anaconda3\\lib\\site-packages\\pandas\\core\\ops.py:1037: RuntimeWarning: invalid value encountered in double_scalars\n",
      "  lambda x: op(x, rvalues))\n"
     ]
    }
   ],
   "source": [
    "look = data.groupby(['Level']).transform(lambda x: (x - x.mean()) / x.std())"
   ]
  },
  {
   "cell_type": "code",
   "execution_count": 30,
   "metadata": {},
   "outputs": [
    {
     "data": {
      "text/plain": [
       "Index(['Season', 'Age', 'G', 'AB', 'PA', 'H', '1B', '2B', '3B', 'HR', 'R',\n",
       "       'RBI', 'BB', 'IBB', 'SO', 'HBP', 'SF', 'SH', 'GDP', 'SB', 'CS', 'AVG',\n",
       "       'Def', 'BABIP', 'SB%', 'SLG', 'BB%', 'K%', 'ISO'],\n",
       "      dtype='object')"
      ]
     },
     "execution_count": 30,
     "metadata": {},
     "output_type": "execute_result"
    }
   ],
   "source": [
    "look.columns"
   ]
  },
  {
   "cell_type": "code",
   "execution_count": 32,
   "metadata": {},
   "outputs": [
    {
     "data": {
      "text/plain": [
       "Index(['Season', 'Name', 'Team', 'Level', 'Age', 'G', 'AB', 'PA', 'H', '1B',\n",
       "       '2B', '3B', 'HR', 'R', 'RBI', 'BB', 'IBB', 'SO', 'HBP', 'SF', 'SH',\n",
       "       'GDP', 'SB', 'CS', 'AVG', 'PlayerId', 'Position', 'Def', 'BABIP', 'SB%',\n",
       "       'SLG', 'BB%', 'K%', 'ISO'],\n",
       "      dtype='object')"
      ]
     },
     "execution_count": 32,
     "metadata": {},
     "output_type": "execute_result"
    }
   ],
   "source": [
    "data.columns"
   ]
  },
  {
   "cell_type": "code",
   "execution_count": 33,
   "metadata": {},
   "outputs": [],
   "source": [
    "final = data[['Name', 'Team', 'Level', 'PA', 'PlayerId', 'Position']]"
   ]
  },
  {
   "cell_type": "code",
   "execution_count": 35,
   "metadata": {},
   "outputs": [
    {
     "name": "stderr",
     "output_type": "stream",
     "text": [
      "C:\\Users\\alana\\Anaconda3\\lib\\site-packages\\pandas\\core\\frame.py:3140: SettingWithCopyWarning: \n",
      "A value is trying to be set on a copy of a slice from a DataFrame.\n",
      "Try using .loc[row_indexer,col_indexer] = value instead\n",
      "\n",
      "See the caveats in the documentation: http://pandas.pydata.org/pandas-docs/stable/indexing.html#indexing-view-versus-copy\n",
      "  self[k1] = value[k2]\n"
     ]
    }
   ],
   "source": [
    "final[['AVG', 'SLG', 'Age', 'DEF', 'ISO', 'BB%', 'K%', 'SB%', 'BABIP']] = look[['AVG', 'SLG', 'Age',  'Def', 'ISO', 'BB%', 'K%', 'SB%', 'BABIP']]"
   ]
  },
  {
   "cell_type": "code",
   "execution_count": 58,
   "metadata": {},
   "outputs": [],
   "source": [
    "final = final.replace({\"Level\" : leveler})"
   ]
  },
  {
   "cell_type": "code",
   "execution_count": 44,
   "metadata": {},
   "outputs": [],
   "source": [
    "filename = \"Models/randomforest.h5\""
   ]
  },
  {
   "cell_type": "code",
   "execution_count": 45,
   "metadata": {},
   "outputs": [],
   "source": [
    "rf = pickle.load(open(filename, 'rb'))"
   ]
  },
  {
   "cell_type": "code",
   "execution_count": 59,
   "metadata": {},
   "outputs": [],
   "source": [
    "X = final[['Level', 'Age', 'DEF', 'ISO', 'BB%', 'K%', 'SB%', 'BABIP']]"
   ]
  },
  {
   "cell_type": "code",
   "execution_count": 61,
   "metadata": {},
   "outputs": [],
   "source": [
    "final['Prediction'] = rf.predict(X)"
   ]
  },
  {
   "cell_type": "code",
   "execution_count": 82,
   "metadata": {},
   "outputs": [
    {
     "data": {
      "text/html": [
       "<div>\n",
       "<style scoped>\n",
       "    .dataframe tbody tr th:only-of-type {\n",
       "        vertical-align: middle;\n",
       "    }\n",
       "\n",
       "    .dataframe tbody tr th {\n",
       "        vertical-align: top;\n",
       "    }\n",
       "\n",
       "    .dataframe thead th {\n",
       "        text-align: right;\n",
       "    }\n",
       "</style>\n",
       "<table border=\"1\" class=\"dataframe\">\n",
       "  <thead>\n",
       "    <tr style=\"text-align: right;\">\n",
       "      <th></th>\n",
       "      <th>Name</th>\n",
       "      <th>Team</th>\n",
       "      <th>Level</th>\n",
       "      <th>PA</th>\n",
       "      <th>PlayerId</th>\n",
       "      <th>Position</th>\n",
       "      <th>AVG</th>\n",
       "      <th>SLG</th>\n",
       "      <th>Age</th>\n",
       "      <th>DEF</th>\n",
       "      <th>ISO</th>\n",
       "      <th>BB%</th>\n",
       "      <th>K%</th>\n",
       "      <th>SB%</th>\n",
       "      <th>BABIP</th>\n",
       "      <th>Prediction</th>\n",
       "    </tr>\n",
       "  </thead>\n",
       "  <tbody>\n",
       "    <tr>\n",
       "      <th>29</th>\n",
       "      <td>Willians Astudillo</td>\n",
       "      <td>Twins</td>\n",
       "      <td>1</td>\n",
       "      <td>40</td>\n",
       "      <td>15608</td>\n",
       "      <td>C</td>\n",
       "      <td>4.884215</td>\n",
       "      <td>2.68124</td>\n",
       "      <td>0.07718</td>\n",
       "      <td>1.586740</td>\n",
       "      <td>0.594983</td>\n",
       "      <td>-1.781367</td>\n",
       "      <td>-2.771388</td>\n",
       "      <td>-0.008325</td>\n",
       "      <td>2.689669</td>\n",
       "      <td>0</td>\n",
       "    </tr>\n",
       "    <tr>\n",
       "      <th>3477</th>\n",
       "      <td>Willians Astudillo</td>\n",
       "      <td>Twins</td>\n",
       "      <td>1</td>\n",
       "      <td>40</td>\n",
       "      <td>15608</td>\n",
       "      <td>OF</td>\n",
       "      <td>4.884215</td>\n",
       "      <td>2.68124</td>\n",
       "      <td>0.07718</td>\n",
       "      <td>-0.834519</td>\n",
       "      <td>0.594983</td>\n",
       "      <td>-1.781367</td>\n",
       "      <td>-2.771388</td>\n",
       "      <td>-0.008325</td>\n",
       "      <td>2.689669</td>\n",
       "      <td>1</td>\n",
       "    </tr>\n",
       "  </tbody>\n",
       "</table>\n",
       "</div>"
      ],
      "text/plain": [
       "                    Name    Team  Level  PA PlayerId Position       AVG  \\\n",
       "29    Willians Astudillo  Twins       1  40    15608        C  4.884215   \n",
       "3477  Willians Astudillo  Twins       1  40    15608       OF  4.884215   \n",
       "\n",
       "          SLG      Age       DEF       ISO       BB%        K%       SB%  \\\n",
       "29    2.68124  0.07718  1.586740  0.594983 -1.781367 -2.771388 -0.008325   \n",
       "3477  2.68124  0.07718 -0.834519  0.594983 -1.781367 -2.771388 -0.008325   \n",
       "\n",
       "         BABIP  Prediction  \n",
       "29    2.689669           0  \n",
       "3477  2.689669           1  "
      ]
     },
     "execution_count": 82,
     "metadata": {},
     "output_type": "execute_result"
    }
   ],
   "source": [
    "final[final.Name == 'Willians Astudillo']"
   ]
  },
  {
   "cell_type": "code",
   "execution_count": 83,
   "metadata": {},
   "outputs": [],
   "source": [
    "final = final.replace({\"Level\" : releveler, \"Prediction\" : releveler})"
   ]
  },
  {
   "cell_type": "code",
   "execution_count": 9,
   "metadata": {},
   "outputs": [],
   "source": [
    "example.to_sql('predictiondata', con, if_exists='replace', index=False)"
   ]
  },
  {
   "cell_type": "code",
   "execution_count": 5,
   "metadata": {},
   "outputs": [],
   "source": [
    "example = pd.read_sql_query(\"SELECT * from predictiondata\", con)"
   ]
  },
  {
   "cell_type": "code",
   "execution_count": 7,
   "metadata": {},
   "outputs": [],
   "source": [
    "example = example.round({'AVG': 3, 'SLG': 3, 'OBP': 3, 'OPS': 3, 'Age': 3, 'DEF': 3, 'ISO': 3, 'BB': 3, 'K': 3, 'SB': 3, 'BABIP': 3})\n"
   ]
  },
  {
   "cell_type": "code",
   "execution_count": 8,
   "metadata": {},
   "outputs": [
    {
     "data": {
      "text/html": [
       "<div>\n",
       "<style scoped>\n",
       "    .dataframe tbody tr th:only-of-type {\n",
       "        vertical-align: middle;\n",
       "    }\n",
       "\n",
       "    .dataframe tbody tr th {\n",
       "        vertical-align: top;\n",
       "    }\n",
       "\n",
       "    .dataframe thead th {\n",
       "        text-align: right;\n",
       "    }\n",
       "</style>\n",
       "<table border=\"1\" class=\"dataframe\">\n",
       "  <thead>\n",
       "    <tr style=\"text-align: right;\">\n",
       "      <th></th>\n",
       "      <th>Name</th>\n",
       "      <th>Team</th>\n",
       "      <th>Level</th>\n",
       "      <th>PA</th>\n",
       "      <th>PlayerId</th>\n",
       "      <th>Position</th>\n",
       "      <th>AVG</th>\n",
       "      <th>SLG</th>\n",
       "      <th>Age</th>\n",
       "      <th>DEF</th>\n",
       "      <th>ISO</th>\n",
       "      <th>BB</th>\n",
       "      <th>K</th>\n",
       "      <th>SB</th>\n",
       "      <th>BABIP</th>\n",
       "      <th>Prediction</th>\n",
       "    </tr>\n",
       "  </thead>\n",
       "  <tbody>\n",
       "    <tr>\n",
       "      <th>0</th>\n",
       "      <td>Tomas Telis</td>\n",
       "      <td>Twins</td>\n",
       "      <td>AAA</td>\n",
       "      <td>241</td>\n",
       "      <td>10067</td>\n",
       "      <td>C</td>\n",
       "      <td>0.711</td>\n",
       "      <td>0.151</td>\n",
       "      <td>0.392</td>\n",
       "      <td>1.587</td>\n",
       "      <td>-0.242</td>\n",
       "      <td>-1.284</td>\n",
       "      <td>-1.583</td>\n",
       "      <td>-1.319</td>\n",
       "      <td>0.048</td>\n",
       "      <td>MLB</td>\n",
       "    </tr>\n",
       "    <tr>\n",
       "      <th>1</th>\n",
       "      <td>Francisco Arcia</td>\n",
       "      <td>Cubs</td>\n",
       "      <td>AAA</td>\n",
       "      <td>171</td>\n",
       "      <td>10286</td>\n",
       "      <td>C</td>\n",
       "      <td>-1.764</td>\n",
       "      <td>-2.202</td>\n",
       "      <td>0.707</td>\n",
       "      <td>1.587</td>\n",
       "      <td>-1.910</td>\n",
       "      <td>-1.398</td>\n",
       "      <td>-0.782</td>\n",
       "      <td>-1.319</td>\n",
       "      <td>-1.753</td>\n",
       "      <td>AAA</td>\n",
       "    </tr>\n",
       "    <tr>\n",
       "      <th>2</th>\n",
       "      <td>John Ryan Murphy</td>\n",
       "      <td>Diamondbacks</td>\n",
       "      <td>AAA</td>\n",
       "      <td>136</td>\n",
       "      <td>10346</td>\n",
       "      <td>C</td>\n",
       "      <td>-0.439</td>\n",
       "      <td>0.562</td>\n",
       "      <td>0.392</td>\n",
       "      <td>1.587</td>\n",
       "      <td>1.050</td>\n",
       "      <td>-0.081</td>\n",
       "      <td>0.455</td>\n",
       "      <td>-1.319</td>\n",
       "      <td>-0.864</td>\n",
       "      <td>MLB</td>\n",
       "    </tr>\n",
       "    <tr>\n",
       "      <th>3</th>\n",
       "      <td>Rocky Gale</td>\n",
       "      <td>Dodgers</td>\n",
       "      <td>AAA</td>\n",
       "      <td>109</td>\n",
       "      <td>10533</td>\n",
       "      <td>C</td>\n",
       "      <td>-0.439</td>\n",
       "      <td>-0.805</td>\n",
       "      <td>1.336</td>\n",
       "      <td>1.587</td>\n",
       "      <td>-0.828</td>\n",
       "      <td>-0.837</td>\n",
       "      <td>0.027</td>\n",
       "      <td>1.302</td>\n",
       "      <td>-0.282</td>\n",
       "      <td>MLB</td>\n",
       "    </tr>\n",
       "    <tr>\n",
       "      <th>4</th>\n",
       "      <td>David Freitas</td>\n",
       "      <td>Brewers</td>\n",
       "      <td>AAA</td>\n",
       "      <td>269</td>\n",
       "      <td>10619</td>\n",
       "      <td>C</td>\n",
       "      <td>2.072</td>\n",
       "      <td>0.726</td>\n",
       "      <td>1.021</td>\n",
       "      <td>1.587</td>\n",
       "      <td>-0.312</td>\n",
       "      <td>0.392</td>\n",
       "      <td>-0.945</td>\n",
       "      <td>-1.319</td>\n",
       "      <td>1.867</td>\n",
       "      <td>MLB</td>\n",
       "    </tr>\n",
       "  </tbody>\n",
       "</table>\n",
       "</div>"
      ],
      "text/plain": [
       "               Name           Team Level   PA PlayerId Position    AVG    SLG  \\\n",
       "0       Tomas Telis         Twins    AAA  241    10067        C  0.711  0.151   \n",
       "1   Francisco Arcia          Cubs    AAA  171    10286        C -1.764 -2.202   \n",
       "2  John Ryan Murphy  Diamondbacks    AAA  136    10346        C -0.439  0.562   \n",
       "3        Rocky Gale       Dodgers    AAA  109    10533        C -0.439 -0.805   \n",
       "4     David Freitas       Brewers    AAA  269    10619        C  2.072  0.726   \n",
       "\n",
       "     Age    DEF    ISO     BB      K     SB  BABIP Prediction  \n",
       "0  0.392  1.587 -0.242 -1.284 -1.583 -1.319  0.048        MLB  \n",
       "1  0.707  1.587 -1.910 -1.398 -0.782 -1.319 -1.753        AAA  \n",
       "2  0.392  1.587  1.050 -0.081  0.455 -1.319 -0.864        MLB  \n",
       "3  1.336  1.587 -0.828 -0.837  0.027  1.302 -0.282        MLB  \n",
       "4  1.021  1.587 -0.312  0.392 -0.945 -1.319  1.867        MLB  "
      ]
     },
     "execution_count": 8,
     "metadata": {},
     "output_type": "execute_result"
    }
   ],
   "source": [
    "example.head()"
   ]
  },
  {
   "cell_type": "code",
   "execution_count": 11,
   "metadata": {},
   "outputs": [],
   "source": [
    "names = example.Name.unique()"
   ]
  },
  {
   "cell_type": "markdown",
   "metadata": {},
   "source": []
  },
  {
   "cell_type": "code",
   "execution_count": null,
   "metadata": {},
   "outputs": [],
   "source": [
    "with open('names.txt', 'w') as f:\n",
    "    for item in my_list:\n",
    "        f.write(\"%s\\n\" % item)"
   ]
  }
 ],
 "metadata": {
  "kernelspec": {
   "display_name": "Python 3",
   "language": "python",
   "name": "python3"
  },
  "language_info": {
   "codemirror_mode": {
    "name": "ipython",
    "version": 3
   },
   "file_extension": ".py",
   "mimetype": "text/x-python",
   "name": "python",
   "nbconvert_exporter": "python",
   "pygments_lexer": "ipython3",
   "version": "3.7.1"
  }
 },
 "nbformat": 4,
 "nbformat_minor": 2
}
