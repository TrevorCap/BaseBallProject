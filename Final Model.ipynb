{
 "cells": [
  {
   "cell_type": "code",
   "execution_count": 1,
   "metadata": {},
   "outputs": [],
   "source": [
    "%matplotlib inline\n",
    "import matplotlib.pyplot as plt\n",
    "from mpl_toolkits import mplot3d\n",
    "import numpy as np\n",
    "import sklearn\n",
    "import pandas as pd\n",
    "from sklearn.model_selection import train_test_split\n",
    "from sklearn.preprocessing import MinMaxScaler\n",
    "from tensorflow.keras.utils import to_categorical\n",
    "from tensorflow.keras.models import Sequential\n",
    "from tensorflow.keras.layers import Dense\n",
    "from sklearn.ensemble import RandomForestClassifier\n",
    "from sklearn import tree\n",
    "import pickle"
   ]
  },
  {
   "cell_type": "code",
   "execution_count": null,
   "metadata": {},
   "outputs": [],
   "source": []
  },
  {
   "cell_type": "code",
   "execution_count": 2,
   "metadata": {},
   "outputs": [],
   "source": [
    "#import the data\n",
    "final = pd.read_csv('Resources/done.csv')\n",
    "final = final.drop(columns='Unnamed: 0')"
   ]
  },
  {
   "cell_type": "code",
   "execution_count": 3,
   "metadata": {},
   "outputs": [],
   "source": [
    "leveler = {'A+':3, 'A': 4, 'Rk':6, 'A-':5, 'AAA': 1, 'AA':2, 'MLB': 0}\n",
    "releveler = {3:'A+', 4:'A', 6:'Rk', 5:'A-', 1: 'AAA', 2 : 'AA', 0: 'MLB'}"
   ]
  },
  {
   "cell_type": "code",
   "execution_count": null,
   "metadata": {},
   "outputs": [],
   "source": []
  },
  {
   "cell_type": "code",
   "execution_count": 4,
   "metadata": {},
   "outputs": [],
   "source": [
    "final = final.replace({\"TopLevel\" : leveler})\n",
    "final = final[final.PA > 30]"
   ]
  },
  {
   "cell_type": "code",
   "execution_count": 43,
   "metadata": {},
   "outputs": [],
   "source": [
    "# AAA = final[final.Level == 1]\n",
    "# AA = final[final.Level == 2]\n",
    "# HiA = final[final.Level == 3]\n",
    "# A = final[final.Level == 4]\n",
    "# LoA = final[final.Level == 5]\n",
    "# Rk = final[final.Level == 6]"
   ]
  },
  {
   "cell_type": "code",
   "execution_count": 27,
   "metadata": {},
   "outputs": [],
   "source": [
    "# levels = [AAA, AA, HiA, A, LoA, Rk]"
   ]
  },
  {
   "cell_type": "code",
   "execution_count": 45,
   "metadata": {},
   "outputs": [],
   "source": [
    "# PAmin = []\n",
    "# insample = []\n",
    "# outsample = []\n",
    "\n",
    "# for i in range(0,101, 5):\n",
    "#     final = final[final.PA > i]\n",
    "# #Split it into X and Y\n",
    "#     X = final[['Level', 'DaysOld', 'DEF', 'ISO', 'BB%', 'K%', 'SB%', 'BABIP']]\n",
    "#     y = final.TopLevel\n",
    "#     X = X.fillna(0)\n",
    "#     X_train, X_test, y_train, y_test = train_test_split(X, y, random_state=1)\n",
    "# #If not scaling\n",
    "#     X_train_scaled = X_train\n",
    "#     X_test_scaled = X_test\n",
    "\n",
    "# # Random forest Test\n",
    "#     rf = RandomForestClassifier(n_estimators=25, max_depth=14)\n",
    "#     rf = rf.fit(X_train, y_train)\n",
    "#     PAmin.append(i)\n",
    "#     insample.append(rf.score(X_train, y_train))\n",
    "#     outsample.append(rf.score(X_test, y_test))              "
   ]
  },
  {
   "cell_type": "code",
   "execution_count": 11,
   "metadata": {},
   "outputs": [],
   "source": [
    "# Pick a Level\n",
    "final = final[final.Level == 3]\n",
    "\n",
    "#Split it into X and Y\n",
    "X = final[['DaysOld', 'DEF', 'ISO', 'BB%', 'K%', 'SB%', 'BABIP']]\n",
    "y = final.TopLevel"
   ]
  },
  {
   "cell_type": "code",
   "execution_count": 12,
   "metadata": {},
   "outputs": [],
   "source": [
    "X = X.fillna(0)"
   ]
  },
  {
   "cell_type": "code",
   "execution_count": 13,
   "metadata": {},
   "outputs": [],
   "source": [
    "# An attempt to make all of the variables where high is good and low is bad for a machine learning model\n",
    "X.DaysOld = X.DaysOld * -1\n",
    "X['K%'] = X['K%'] * -1"
   ]
  },
  {
   "cell_type": "code",
   "execution_count": null,
   "metadata": {},
   "outputs": [],
   "source": []
  },
  {
   "cell_type": "code",
   "execution_count": 51,
   "metadata": {},
   "outputs": [],
   "source": [
    "# plt.plot(PAmin, insample, marker='o', markerfacecolor='blue', markersize=2, color='skyblue', linewidth=4)\n",
    "# plt.plot(PAmin, outsample, marker='', color='green', linewidth=2)\n",
    "# plt.legend()"
   ]
  },
  {
   "cell_type": "code",
   "execution_count": 16,
   "metadata": {},
   "outputs": [],
   "source": [
    "# Use train_test_split to create training and testing data\n",
    "\n",
    "\n",
    "X_train, X_test, y_train, y_test = train_test_split(X, y, random_state=1)"
   ]
  },
  {
   "cell_type": "code",
   "execution_count": 80,
   "metadata": {},
   "outputs": [],
   "source": [
    "# Create a StandardScaler model and fit it to the training data\n",
    "\n",
    "\n",
    "#NOTE: I think this will be unnecessary in the final moel because of the standard deviations?\n",
    "\n",
    "# X_scaler = MinMaxScaler().fit(X_train)"
   ]
  },
  {
   "cell_type": "code",
   "execution_count": 17,
   "metadata": {},
   "outputs": [],
   "source": [
    "# Transform the training and testing data using the X_scaler\n",
    "# X_train_scaled = X_scaler.transform(X_train)\n",
    "# X_test_scaled = X_scaler.transform(X_test)\n",
    "\n",
    "\n",
    "#If not scaling\n",
    "X_train_scaled = X_train\n",
    "X_test_scaled = X_test"
   ]
  },
  {
   "cell_type": "code",
   "execution_count": 18,
   "metadata": {},
   "outputs": [],
   "source": [
    "# One-hot encoding\n",
    "y_train_categorical = to_categorical(y_train)\n",
    "y_test_categorical = to_categorical(y_test)"
   ]
  },
  {
   "cell_type": "code",
   "execution_count": null,
   "metadata": {},
   "outputs": [],
   "source": []
  },
  {
   "cell_type": "code",
   "execution_count": 20,
   "metadata": {},
   "outputs": [],
   "source": [
    "# create a normal neural network with 31 inputs, \n",
    "# 31 hidden nodes in the first layer, \n",
    "# 26 in the second and 2 outputs\n",
    "\n",
    "model = Sequential()\n",
    "model.add(Dense(units=10, activation='relu', input_dim=7))\n",
    "model.add(Dense(units=16, activation='relu'))\n",
    "model.add(Dense(units=4, activation='sigmoid'))"
   ]
  },
  {
   "cell_type": "code",
   "execution_count": 22,
   "metadata": {},
   "outputs": [],
   "source": [
    "# Compile the model\n",
    "model.compile(optimizer='adam',\n",
    "              loss='categorical_crossentropy',\n",
    "              metrics=['accuracy'])"
   ]
  },
  {
   "cell_type": "code",
   "execution_count": 23,
   "metadata": {
    "scrolled": true
   },
   "outputs": [
    {
     "name": "stdout",
     "output_type": "stream",
     "text": [
      "WARNING:tensorflow:From C:\\Users\\alana\\Anaconda3\\lib\\site-packages\\tensorflow\\python\\ops\\math_ops.py:3066: to_int32 (from tensorflow.python.ops.math_ops) is deprecated and will be removed in a future version.\n",
      "Instructions for updating:\n",
      "Use tf.cast instead.\n",
      "Epoch 1/100\n",
      " - 2s - loss: 1.3273 - acc: 0.3826\n",
      "Epoch 2/100\n",
      " - 1s - loss: 1.2840 - acc: 0.4076\n",
      "Epoch 3/100\n",
      " - 1s - loss: 1.2752 - acc: 0.4145\n",
      "Epoch 4/100\n",
      " - 1s - loss: 1.2708 - acc: 0.4174\n",
      "Epoch 5/100\n",
      " - 1s - loss: 1.2676 - acc: 0.4229\n",
      "Epoch 6/100\n",
      " - 1s - loss: 1.2657 - acc: 0.4208\n",
      "Epoch 7/100\n",
      " - 1s - loss: 1.2640 - acc: 0.4231\n",
      "Epoch 8/100\n",
      " - 1s - loss: 1.2628 - acc: 0.4241\n",
      "Epoch 9/100\n",
      " - 1s - loss: 1.2618 - acc: 0.4222\n",
      "Epoch 10/100\n",
      " - 1s - loss: 1.2610 - acc: 0.4232\n",
      "Epoch 11/100\n",
      " - 1s - loss: 1.2602 - acc: 0.4212\n",
      "Epoch 12/100\n",
      " - 1s - loss: 1.2597 - acc: 0.4216\n",
      "Epoch 13/100\n",
      " - 1s - loss: 1.2589 - acc: 0.4242\n",
      "Epoch 14/100\n",
      " - 1s - loss: 1.2587 - acc: 0.4209\n",
      "Epoch 15/100\n",
      " - 1s - loss: 1.2579 - acc: 0.4240\n",
      "Epoch 16/100\n",
      " - 1s - loss: 1.2575 - acc: 0.4234\n",
      "Epoch 17/100\n",
      " - 1s - loss: 1.2576 - acc: 0.4234\n",
      "Epoch 18/100\n",
      " - 1s - loss: 1.2567 - acc: 0.4231\n",
      "Epoch 19/100\n",
      " - 1s - loss: 1.2570 - acc: 0.4215\n",
      "Epoch 20/100\n",
      " - 1s - loss: 1.2560 - acc: 0.4229\n",
      "Epoch 21/100\n",
      " - 1s - loss: 1.2559 - acc: 0.4240\n",
      "Epoch 22/100\n",
      " - 1s - loss: 1.2558 - acc: 0.4228\n",
      "Epoch 23/100\n",
      " - 1s - loss: 1.2554 - acc: 0.4228\n",
      "Epoch 24/100\n",
      " - 1s - loss: 1.2547 - acc: 0.4246\n",
      "Epoch 25/100\n",
      " - 1s - loss: 1.2550 - acc: 0.4258\n",
      "Epoch 26/100\n",
      " - 1s - loss: 1.2549 - acc: 0.4235\n",
      "Epoch 27/100\n",
      " - 1s - loss: 1.2543 - acc: 0.4233\n",
      "Epoch 28/100\n",
      " - 1s - loss: 1.2545 - acc: 0.4226\n",
      "Epoch 29/100\n",
      " - 1s - loss: 1.2542 - acc: 0.4240\n",
      "Epoch 30/100\n",
      " - 1s - loss: 1.2541 - acc: 0.4230\n",
      "Epoch 31/100\n",
      " - 1s - loss: 1.2536 - acc: 0.4265\n",
      "Epoch 32/100\n",
      " - 1s - loss: 1.2534 - acc: 0.4251\n",
      "Epoch 33/100\n",
      " - 1s - loss: 1.2537 - acc: 0.4249\n",
      "Epoch 34/100\n",
      " - 1s - loss: 1.2531 - acc: 0.4229\n",
      "Epoch 35/100\n",
      " - 1s - loss: 1.2533 - acc: 0.4241\n",
      "Epoch 36/100\n",
      " - 1s - loss: 1.2530 - acc: 0.4240\n",
      "Epoch 37/100\n",
      " - 1s - loss: 1.2530 - acc: 0.4249\n",
      "Epoch 38/100\n",
      " - 1s - loss: 1.2528 - acc: 0.4245\n",
      "Epoch 39/100\n",
      " - 1s - loss: 1.2528 - acc: 0.4251\n",
      "Epoch 40/100\n",
      " - 1s - loss: 1.2531 - acc: 0.4246\n",
      "Epoch 41/100\n",
      " - 1s - loss: 1.2528 - acc: 0.4250\n",
      "Epoch 42/100\n",
      " - 1s - loss: 1.2526 - acc: 0.4255\n",
      "Epoch 43/100\n",
      " - 1s - loss: 1.2528 - acc: 0.4250\n",
      "Epoch 44/100\n",
      " - 1s - loss: 1.2526 - acc: 0.4226\n",
      "Epoch 45/100\n",
      " - 1s - loss: 1.2526 - acc: 0.4256\n",
      "Epoch 46/100\n",
      " - 1s - loss: 1.2526 - acc: 0.4239\n",
      "Epoch 47/100\n",
      " - 1s - loss: 1.2521 - acc: 0.4268\n",
      "Epoch 48/100\n",
      " - 1s - loss: 1.2524 - acc: 0.4251\n",
      "Epoch 49/100\n",
      " - 1s - loss: 1.2518 - acc: 0.4255\n",
      "Epoch 50/100\n",
      " - 1s - loss: 1.2520 - acc: 0.4243\n",
      "Epoch 51/100\n",
      " - 2s - loss: 1.2519 - acc: 0.4265\n",
      "Epoch 52/100\n",
      " - 1s - loss: 1.2519 - acc: 0.4249\n",
      "Epoch 53/100\n",
      " - 1s - loss: 1.2521 - acc: 0.4245\n",
      "Epoch 54/100\n",
      " - 1s - loss: 1.2521 - acc: 0.4261\n",
      "Epoch 55/100\n",
      " - 1s - loss: 1.2516 - acc: 0.4260\n",
      "Epoch 56/100\n",
      " - 1s - loss: 1.2517 - acc: 0.4274\n",
      "Epoch 57/100\n",
      " - 1s - loss: 1.2517 - acc: 0.4259\n",
      "Epoch 58/100\n",
      " - 1s - loss: 1.2514 - acc: 0.4251\n",
      "Epoch 59/100\n",
      " - 1s - loss: 1.2516 - acc: 0.4258\n",
      "Epoch 60/100\n",
      " - 1s - loss: 1.2516 - acc: 0.4258\n",
      "Epoch 61/100\n",
      " - 1s - loss: 1.2512 - acc: 0.4254\n",
      "Epoch 62/100\n",
      " - 1s - loss: 1.2514 - acc: 0.4259\n",
      "Epoch 63/100\n",
      " - 1s - loss: 1.2513 - acc: 0.4270\n",
      "Epoch 64/100\n",
      " - 1s - loss: 1.2511 - acc: 0.4265\n",
      "Epoch 65/100\n",
      " - 1s - loss: 1.2510 - acc: 0.4277\n",
      "Epoch 66/100\n",
      " - 1s - loss: 1.2508 - acc: 0.4261\n",
      "Epoch 67/100\n",
      " - 1s - loss: 1.2509 - acc: 0.4272\n",
      "Epoch 68/100\n",
      " - 1s - loss: 1.2509 - acc: 0.4279\n",
      "Epoch 69/100\n",
      " - 1s - loss: 1.2508 - acc: 0.4265\n",
      "Epoch 70/100\n",
      " - 1s - loss: 1.2509 - acc: 0.4274\n",
      "Epoch 71/100\n",
      " - 1s - loss: 1.2508 - acc: 0.4289\n",
      "Epoch 72/100\n",
      " - 1s - loss: 1.2507 - acc: 0.4268\n",
      "Epoch 73/100\n",
      " - 1s - loss: 1.2505 - acc: 0.4273\n",
      "Epoch 74/100\n",
      " - 1s - loss: 1.2508 - acc: 0.4271\n",
      "Epoch 75/100\n",
      " - 1s - loss: 1.2501 - acc: 0.4270\n",
      "Epoch 76/100\n",
      " - 1s - loss: 1.2506 - acc: 0.4276\n",
      "Epoch 77/100\n",
      " - 1s - loss: 1.2506 - acc: 0.4277\n",
      "Epoch 78/100\n",
      " - 1s - loss: 1.2502 - acc: 0.4278\n",
      "Epoch 79/100\n",
      " - 1s - loss: 1.2503 - acc: 0.4265\n",
      "Epoch 80/100\n",
      " - 1s - loss: 1.2504 - acc: 0.4269\n",
      "Epoch 81/100\n",
      " - 1s - loss: 1.2503 - acc: 0.4283\n",
      "Epoch 82/100\n",
      " - 1s - loss: 1.2500 - acc: 0.4281\n",
      "Epoch 83/100\n",
      " - 1s - loss: 1.2505 - acc: 0.4278\n",
      "Epoch 84/100\n",
      " - 1s - loss: 1.2501 - acc: 0.4290\n",
      "Epoch 85/100\n",
      " - 1s - loss: 1.2500 - acc: 0.4293\n",
      "Epoch 86/100\n",
      " - 1s - loss: 1.2497 - acc: 0.4297\n",
      "Epoch 87/100\n",
      " - 1s - loss: 1.2500 - acc: 0.4296\n",
      "Epoch 88/100\n",
      " - 1s - loss: 1.2500 - acc: 0.4282\n",
      "Epoch 89/100\n",
      " - 1s - loss: 1.2494 - acc: 0.4285\n",
      "Epoch 90/100\n",
      " - 1s - loss: 1.2502 - acc: 0.4277\n",
      "Epoch 91/100\n",
      " - 1s - loss: 1.2499 - acc: 0.4277\n",
      "Epoch 92/100\n",
      " - 1s - loss: 1.2495 - acc: 0.4301\n",
      "Epoch 93/100\n",
      " - 1s - loss: 1.2493 - acc: 0.4303\n",
      "Epoch 94/100\n",
      " - 1s - loss: 1.2500 - acc: 0.4275\n",
      "Epoch 95/100\n",
      " - 1s - loss: 1.2501 - acc: 0.4281\n",
      "Epoch 96/100\n",
      " - 1s - loss: 1.2496 - acc: 0.4294\n",
      "Epoch 97/100\n",
      " - 1s - loss: 1.2492 - acc: 0.4289\n",
      "Epoch 98/100\n",
      " - 1s - loss: 1.2490 - acc: 0.4277\n",
      "Epoch 99/100\n",
      " - 1s - loss: 1.2495 - acc: 0.4295\n",
      "Epoch 100/100\n",
      " - 1s - loss: 1.2488 - acc: 0.4288\n"
     ]
    },
    {
     "data": {
      "text/plain": [
       "<tensorflow.python.keras.callbacks.History at 0x240821b3d30>"
      ]
     },
     "execution_count": 23,
     "metadata": {},
     "output_type": "execute_result"
    }
   ],
   "source": [
    "# Fit the model to the training data\n",
    "model.fit(\n",
    "    X_train_scaled,\n",
    "    y_train_categorical,\n",
    "    epochs=100,\n",
    "    shuffle=True,\n",
    "    verbose=2\n",
    ")"
   ]
  },
  {
   "cell_type": "code",
   "execution_count": 24,
   "metadata": {},
   "outputs": [
    {
     "name": "stdout",
     "output_type": "stream",
     "text": [
      " - 0s - loss: 1.2753 - acc: 0.4184\n",
      "Neural Network - Loss: 1.2752931658705022, Accuracy: 0.41840511560440063\n"
     ]
    }
   ],
   "source": [
    "# See how it did.\n",
    "\n",
    "model_loss, model_accuracy = model.evaluate(\n",
    "    X_test_scaled, y_test_categorical, verbose=2)\n",
    "print(\n",
    "    f\"Neural Network - Loss: {model_loss}, Accuracy: {model_accuracy}\")"
   ]
  },
  {
   "cell_type": "code",
   "execution_count": 25,
   "metadata": {},
   "outputs": [
    {
     "name": "stdout",
     "output_type": "stream",
     "text": [
      "0.8859 in sample.\n",
      "0.4063 out of sample.\n"
     ]
    }
   ],
   "source": [
    "# Random forest Test\n",
    "rf = RandomForestClassifier(n_estimators=25, max_depth=14)\n",
    "rf = rf.fit(X_train, y_train)\n",
    "print(f'{round(rf.score(X_train, y_train),4)} in sample.')\n",
    "print(f'{round(rf.score(X_test, y_test),4)} out of sample.')"
   ]
  },
  {
   "cell_type": "code",
   "execution_count": 49,
   "metadata": {},
   "outputs": [],
   "source": [
    "# depth = []\n",
    "# estimators = []\n",
    "# insample = []\n",
    "# outsample = []\n",
    "# for i in range(5,16):\n",
    "#     for j in range(2,30):\n",
    "#         depth.append(i)\n",
    "#         estimators.append(j)\n",
    "#         rf = RandomForestClassifier(n_estimators=j, max_depth=i).fit(X_train, y_train)\n",
    "#         insample.append(rf.score(X_train, y_train))\n",
    "#         outsample.append(rf.score(X_test, y_test))              "
   ]
  },
  {
   "cell_type": "code",
   "execution_count": 52,
   "metadata": {},
   "outputs": [
    {
     "name": "stdout",
     "output_type": "stream",
     "text": [
      "0.7164836609902032\n",
      "0.4710606402164112\n"
     ]
    }
   ],
   "source": [
    "print(f'{max(insample)}')\n",
    "print(f'{max(outsample)}')"
   ]
  },
  {
   "cell_type": "code",
   "execution_count": 69,
   "metadata": {},
   "outputs": [
    {
     "data": {
      "image/png": "[encoded data removed]",
      "text/plain": [
       "<Figure size 432x288 with 1 Axes>"
      ]
     },
     "metadata": {
      "needs_background": "light"
     },
     "output_type": "display_data"
    }
   ],
   "source": [
    "fig = plt.figure()\n",
    "ax = plt.axes(projection='3d')\n",
    "\n",
    "# Data for a three-dimensional scatter plot\n",
    "ax.scatter3D(estimators, depth, outsample, c=outsample, cmap='viridis')\n",
    "ax.scatter3D(estimators, depth, insample, c=insample, cmap='plasma')\n",
    "ax.set_xlabel('Number of Estimators')\n",
    "ax.set_ylabel('Tree Depth')\n",
    "ax.set_zlabel('Score');\n",
    "ax.set_title('Optimizing paramters for Decision Tree');\n",
    "plt.savefig(\"Models/RandForest1.png\")"
   ]
  },
  {
   "cell_type": "code",
   "execution_count": 70,
   "metadata": {},
   "outputs": [
    {
     "data": {
      "image/png": "[encoded data removed]",
      "text/plain": [
       "<Figure size 432x288 with 1 Axes>"
      ]
     },
     "execution_count": 70,
     "metadata": {},
     "output_type": "execute_result"
    },
    {
     "data": {
      "text/plain": [
       "<Figure size 432x288 with 0 Axes>"
      ]
     },
     "metadata": {},
     "output_type": "display_data"
    }
   ],
   "source": [
    "ax.view_init(20, -5)\n",
    "plt.savefig(\"Models/RandForest2.png\")\n",
    "fig"
   ]
  },
  {
   "cell_type": "code",
   "execution_count": 45,
   "metadata": {},
   "outputs": [
    {
     "name": "stderr",
     "output_type": "stream",
     "text": [
      "No handles with labels found to put in legend.\n"
     ]
    },
    {
     "data": {
      "text/plain": [
       "<matplotlib.legend.Legend at 0x17430275748>"
      ]
     },
     "execution_count": 45,
     "metadata": {},
     "output_type": "execute_result"
    },
    {
     "data": {
      "image/png": "[encoded data removed]",
      "text/plain": [
       "<Figure size 432x288 with 1 Axes>"
      ]
     },
     "metadata": {
      "needs_background": "light"
     },
     "output_type": "display_data"
    }
   ],
   "source": [
    "plt.plot(depth, insample, marker='o', markerfacecolor='blue', markersize=2, color='skyblue', linewidth=4)\n",
    "plt.plot(depth, outsample, marker='', color='green', linewidth=2)\n",
    "plt.legend()"
   ]
  },
  {
   "cell_type": "code",
   "execution_count": 30,
   "metadata": {},
   "outputs": [
    {
     "name": "stderr",
     "output_type": "stream",
     "text": [
      "No handles with labels found to put in legend.\n"
     ]
    },
    {
     "data": {
      "text/plain": [
       "<matplotlib.legend.Legend at 0x174304a6080>"
      ]
     },
     "execution_count": 30,
     "metadata": {},
     "output_type": "execute_result"
    },
    {
     "data": {
      "image/png": "[encoded data removed]",
      "text/plain": [
       "<Figure size 432x288 with 1 Axes>"
      ]
     },
     "metadata": {
      "needs_background": "light"
     },
     "output_type": "display_data"
    }
   ],
   "source": [
    "plt.plot(estimators, insample, marker='o', markerfacecolor='blue', markersize=2, color='skyblue', linewidth=4)\n",
    "plt.plot(estimators, outsample, marker='', color='green', linewidth=2)\n",
    "plt.legend()"
   ]
  },
  {
   "cell_type": "code",
   "execution_count": 26,
   "metadata": {},
   "outputs": [
    {
     "data": {
      "text/plain": [
       "[(0.1745490087415922, 'DaysOld'),\n",
       " (0.13009547699114044, 'DEF'),\n",
       " (0.15212706067711054, 'ISO'),\n",
       " (0.12044358595739219, 'BB%'),\n",
       " (0.1541149703885019, 'K%'),\n",
       " (0.12701280684831456, 'SB%'),\n",
       " (0.14165709039594826, 'BABIP')]"
      ]
     },
     "execution_count": 26,
     "metadata": {},
     "output_type": "execute_result"
    }
   ],
   "source": [
    "[(x[0], x[1]) for x in zip(rf.feature_importances_, X.columns)]"
   ]
  },
  {
   "cell_type": "code",
   "execution_count": 42,
   "metadata": {},
   "outputs": [],
   "source": [
    "depth = []\n",
    "for i in range(1,21):\n",
    "    depth.append(i)"
   ]
  },
  {
   "cell_type": "code",
   "execution_count": 27,
   "metadata": {},
   "outputs": [
    {
     "data": {
      "text/plain": [
       "0.32368775235531627"
      ]
     },
     "execution_count": 27,
     "metadata": {},
     "output_type": "execute_result"
    }
   ],
   "source": [
    "#Decision Tree Classifier\n",
    "clf = tree.DecisionTreeClassifier()\n",
    "clf = clf.fit(X_train, y_train)\n",
    "clf.score(X_test, y_test)"
   ]
  },
  {
   "cell_type": "code",
   "execution_count": 54,
   "metadata": {},
   "outputs": [
    {
     "name": "stdout",
     "output_type": "stream",
     "text": [
      "Predicted class: [6 6 6 0 3 6 0 6 6 6 6 1 6 6 6]\n",
      "Actual Labels: [4, 1, 6, 3, 2, 6, 3, 6, 4, 6, 6, 3, 6, 6, 2]\n"
     ]
    }
   ],
   "source": [
    "# print(f\"Predicted class: {model.predict_classes(X_test_scaled[:15])}\")\n",
    "\n",
    "# print(f\"Actual Labels: {list(y_test[:15])}\")"
   ]
  },
  {
   "cell_type": "code",
   "execution_count": 13,
   "metadata": {},
   "outputs": [
    {
     "data": {
      "text/plain": [
       "0.9885124409419235"
      ]
     },
     "execution_count": 13,
     "metadata": {},
     "output_type": "execute_result"
    }
   ],
   "source": [
    "rf.score(X_train, y_train)"
   ]
  },
  {
   "cell_type": "code",
   "execution_count": 15,
   "metadata": {},
   "outputs": [
    {
     "data": {
      "text/plain": [
       "0.4198320559062218"
      ]
     },
     "execution_count": 15,
     "metadata": {},
     "output_type": "execute_result"
    }
   ],
   "source": [
    "rf.score(X_test, y_test)"
   ]
  },
  {
   "cell_type": "code",
   "execution_count": null,
   "metadata": {},
   "outputs": [],
   "source": []
  },
  {
   "cell_type": "code",
   "execution_count": null,
   "metadata": {},
   "outputs": [],
   "source": []
  },
  {
   "cell_type": "code",
   "execution_count": null,
   "metadata": {},
   "outputs": [],
   "source": []
  },
  {
   "cell_type": "code",
   "execution_count": 29,
   "metadata": {},
   "outputs": [
    {
     "ename": "KeyError",
     "evalue": "\"['MHiA' 'MAA' 'MAAA' 'MMLB'] not in index\"",
     "output_type": "error",
     "traceback": [
      "\u001b[1;31m---------------------------------------------------------------------------\u001b[0m",
      "\u001b[1;31mKeyError\u001b[0m                                  Traceback (most recent call last)",
      "\u001b[1;32m<ipython-input-29-5419bd5e7bec>\u001b[0m in \u001b[0;36m<module>\u001b[1;34m\u001b[0m\n\u001b[1;32m----> 1\u001b[1;33m \u001b[0mfinal\u001b[0m\u001b[1;33m[\u001b[0m\u001b[1;33m[\u001b[0m\u001b[1;34m'MHiA'\u001b[0m\u001b[1;33m,\u001b[0m \u001b[1;34m'MAA'\u001b[0m\u001b[1;33m,\u001b[0m \u001b[1;34m'MAAA'\u001b[0m\u001b[1;33m,\u001b[0m \u001b[1;34m'MMLB'\u001b[0m\u001b[1;33m]\u001b[0m\u001b[1;33m]\u001b[0m \u001b[1;33m=\u001b[0m \u001b[0mmodel\u001b[0m\u001b[1;33m.\u001b[0m\u001b[0mpredict\u001b[0m\u001b[1;33m(\u001b[0m\u001b[0mX\u001b[0m\u001b[1;33m)\u001b[0m\u001b[1;33m\u001b[0m\u001b[1;33m\u001b[0m\u001b[0m\n\u001b[0m",
      "\u001b[1;32m~\\Anaconda3\\lib\\site-packages\\pandas\\core\\frame.py\u001b[0m in \u001b[0;36m__setitem__\u001b[1;34m(self, key, value)\u001b[0m\n\u001b[0;32m   3114\u001b[0m             \u001b[0mself\u001b[0m\u001b[1;33m.\u001b[0m\u001b[0m_setitem_frame\u001b[0m\u001b[1;33m(\u001b[0m\u001b[0mkey\u001b[0m\u001b[1;33m,\u001b[0m \u001b[0mvalue\u001b[0m\u001b[1;33m)\u001b[0m\u001b[1;33m\u001b[0m\u001b[1;33m\u001b[0m\u001b[0m\n\u001b[0;32m   3115\u001b[0m         \u001b[1;32melif\u001b[0m \u001b[0misinstance\u001b[0m\u001b[1;33m(\u001b[0m\u001b[0mkey\u001b[0m\u001b[1;33m,\u001b[0m \u001b[1;33m(\u001b[0m\u001b[0mSeries\u001b[0m\u001b[1;33m,\u001b[0m \u001b[0mnp\u001b[0m\u001b[1;33m.\u001b[0m\u001b[0mndarray\u001b[0m\u001b[1;33m,\u001b[0m \u001b[0mlist\u001b[0m\u001b[1;33m,\u001b[0m \u001b[0mIndex\u001b[0m\u001b[1;33m)\u001b[0m\u001b[1;33m)\u001b[0m\u001b[1;33m:\u001b[0m\u001b[1;33m\u001b[0m\u001b[1;33m\u001b[0m\u001b[0m\n\u001b[1;32m-> 3116\u001b[1;33m             \u001b[0mself\u001b[0m\u001b[1;33m.\u001b[0m\u001b[0m_setitem_array\u001b[0m\u001b[1;33m(\u001b[0m\u001b[0mkey\u001b[0m\u001b[1;33m,\u001b[0m \u001b[0mvalue\u001b[0m\u001b[1;33m)\u001b[0m\u001b[1;33m\u001b[0m\u001b[1;33m\u001b[0m\u001b[0m\n\u001b[0m\u001b[0;32m   3117\u001b[0m         \u001b[1;32melse\u001b[0m\u001b[1;33m:\u001b[0m\u001b[1;33m\u001b[0m\u001b[1;33m\u001b[0m\u001b[0m\n\u001b[0;32m   3118\u001b[0m             \u001b[1;31m# set column\u001b[0m\u001b[1;33m\u001b[0m\u001b[1;33m\u001b[0m\u001b[1;33m\u001b[0m\u001b[0m\n",
      "\u001b[1;32m~\\Anaconda3\\lib\\site-packages\\pandas\\core\\frame.py\u001b[0m in \u001b[0;36m_setitem_array\u001b[1;34m(self, key, value)\u001b[0m\n\u001b[0;32m   3140\u001b[0m                     \u001b[0mself\u001b[0m\u001b[1;33m[\u001b[0m\u001b[0mk1\u001b[0m\u001b[1;33m]\u001b[0m \u001b[1;33m=\u001b[0m \u001b[0mvalue\u001b[0m\u001b[1;33m[\u001b[0m\u001b[0mk2\u001b[0m\u001b[1;33m]\u001b[0m\u001b[1;33m\u001b[0m\u001b[1;33m\u001b[0m\u001b[0m\n\u001b[0;32m   3141\u001b[0m             \u001b[1;32melse\u001b[0m\u001b[1;33m:\u001b[0m\u001b[1;33m\u001b[0m\u001b[1;33m\u001b[0m\u001b[0m\n\u001b[1;32m-> 3142\u001b[1;33m                 \u001b[0mindexer\u001b[0m \u001b[1;33m=\u001b[0m \u001b[0mself\u001b[0m\u001b[1;33m.\u001b[0m\u001b[0mloc\u001b[0m\u001b[1;33m.\u001b[0m\u001b[0m_convert_to_indexer\u001b[0m\u001b[1;33m(\u001b[0m\u001b[0mkey\u001b[0m\u001b[1;33m,\u001b[0m \u001b[0maxis\u001b[0m\u001b[1;33m=\u001b[0m\u001b[1;36m1\u001b[0m\u001b[1;33m)\u001b[0m\u001b[1;33m\u001b[0m\u001b[1;33m\u001b[0m\u001b[0m\n\u001b[0m\u001b[0;32m   3143\u001b[0m                 \u001b[0mself\u001b[0m\u001b[1;33m.\u001b[0m\u001b[0m_check_setitem_copy\u001b[0m\u001b[1;33m(\u001b[0m\u001b[1;33m)\u001b[0m\u001b[1;33m\u001b[0m\u001b[1;33m\u001b[0m\u001b[0m\n\u001b[0;32m   3144\u001b[0m                 \u001b[0mself\u001b[0m\u001b[1;33m.\u001b[0m\u001b[0mloc\u001b[0m\u001b[1;33m.\u001b[0m\u001b[0m_setitem_with_indexer\u001b[0m\u001b[1;33m(\u001b[0m\u001b[1;33m(\u001b[0m\u001b[0mslice\u001b[0m\u001b[1;33m(\u001b[0m\u001b[1;32mNone\u001b[0m\u001b[1;33m)\u001b[0m\u001b[1;33m,\u001b[0m \u001b[0mindexer\u001b[0m\u001b[1;33m)\u001b[0m\u001b[1;33m,\u001b[0m \u001b[0mvalue\u001b[0m\u001b[1;33m)\u001b[0m\u001b[1;33m\u001b[0m\u001b[1;33m\u001b[0m\u001b[0m\n",
      "\u001b[1;32m~\\Anaconda3\\lib\\site-packages\\pandas\\core\\indexing.py\u001b[0m in \u001b[0;36m_convert_to_indexer\u001b[1;34m(self, obj, axis, is_setter)\u001b[0m\n\u001b[0;32m   1325\u001b[0m                 \u001b[1;32mif\u001b[0m \u001b[0mmask\u001b[0m\u001b[1;33m.\u001b[0m\u001b[0many\u001b[0m\u001b[1;33m(\u001b[0m\u001b[1;33m)\u001b[0m\u001b[1;33m:\u001b[0m\u001b[1;33m\u001b[0m\u001b[1;33m\u001b[0m\u001b[0m\n\u001b[0;32m   1326\u001b[0m                     raise KeyError('{mask} not in index'\n\u001b[1;32m-> 1327\u001b[1;33m                                    .format(mask=objarr[mask]))\n\u001b[0m\u001b[0;32m   1328\u001b[0m \u001b[1;33m\u001b[0m\u001b[0m\n\u001b[0;32m   1329\u001b[0m                 \u001b[1;32mreturn\u001b[0m \u001b[0mcom\u001b[0m\u001b[1;33m.\u001b[0m\u001b[0m_values_from_object\u001b[0m\u001b[1;33m(\u001b[0m\u001b[0mindexer\u001b[0m\u001b[1;33m)\u001b[0m\u001b[1;33m\u001b[0m\u001b[1;33m\u001b[0m\u001b[0m\n",
      "\u001b[1;31mKeyError\u001b[0m: \"['MHiA' 'MAA' 'MAAA' 'MMLB'] not in index\""
     ]
    }
   ],
   "source": [
    "final[['MHiA', 'MAA', 'MAAA', 'MMLB']] = model.predict(X)"
   ]
  },
  {
   "cell_type": "code",
   "execution_count": 32,
   "metadata": {},
   "outputs": [],
   "source": [
    "final['Predicted'] = rf.predict(X)"
   ]
  },
  {
   "cell_type": "code",
   "execution_count": 31,
   "metadata": {},
   "outputs": [],
   "source": [
    "final['Random'] = np.random.randint(1, 6, final.shape[0])\n",
    "final['Pop'] = 0\n",
    "final['UpTwo'] = (final.Level - 2)\n",
    "final.UpTwo = final.UpTwo.map({-1 : 0, 0:0, 1:1, 2:2, 3:3, 4:4, 5:5})\n",
    "final['UpOne'] = final.Level - 1"
   ]
  },
  {
   "cell_type": "code",
   "execution_count": 100,
   "metadata": {},
   "outputs": [
    {
     "data": {
      "text/plain": [
       "0.2805193341364274"
      ]
     },
     "execution_count": 100,
     "metadata": {},
     "output_type": "execute_result"
    }
   ],
   "source": [
    "sum(1 for x,y in zip(final.TopLevel,final.Level) if x == y) / len(final.TopLevel)"
   ]
  },
  {
   "cell_type": "code",
   "execution_count": 103,
   "metadata": {},
   "outputs": [
    {
     "ename": "SyntaxError",
     "evalue": "invalid syntax (<ipython-input-103-840717d52bbe>, line 1)",
     "output_type": "error",
     "traceback": [
      "\u001b[1;36m  File \u001b[1;32m\"<ipython-input-103-840717d52bbe>\"\u001b[1;36m, line \u001b[1;32m1\u001b[0m\n\u001b[1;33m    Model = 60.5%\u001b[0m\n\u001b[1;37m                 ^\u001b[0m\n\u001b[1;31mSyntaxError\u001b[0m\u001b[1;31m:\u001b[0m invalid syntax\n"
     ]
    }
   ],
   "source": [
    "Model = 46.8%\n",
    "Random = 11.5%\n",
    "UpTwo = 31.1%\n",
    "UpOne = 29.6%\n",
    "Pop = 34.1%\n",
    "Level = 28.1%"
   ]
  },
  {
   "cell_type": "code",
   "execution_count": 35,
   "metadata": {},
   "outputs": [
    {
     "data": {
      "text/html": [
       "<div>\n",
       "<style scoped>\n",
       "    .dataframe tbody tr th:only-of-type {\n",
       "        vertical-align: middle;\n",
       "    }\n",
       "\n",
       "    .dataframe tbody tr th {\n",
       "        vertical-align: top;\n",
       "    }\n",
       "\n",
       "    .dataframe thead th {\n",
       "        text-align: right;\n",
       "    }\n",
       "</style>\n",
       "<table border=\"1\" class=\"dataframe\">\n",
       "  <thead>\n",
       "    <tr style=\"text-align: right;\">\n",
       "      <th></th>\n",
       "      <th>playerid</th>\n",
       "      <th>TopLevel</th>\n",
       "      <th>year</th>\n",
       "      <th>teamName</th>\n",
       "      <th>League</th>\n",
       "      <th>Level</th>\n",
       "      <th>orgName</th>\n",
       "      <th>lastName</th>\n",
       "      <th>firstName</th>\n",
       "      <th>Bats</th>\n",
       "      <th>...</th>\n",
       "      <th>BB%</th>\n",
       "      <th>K%</th>\n",
       "      <th>SB%</th>\n",
       "      <th>BABIP</th>\n",
       "      <th>DaysOld</th>\n",
       "      <th>Random</th>\n",
       "      <th>Pop</th>\n",
       "      <th>UpTwo</th>\n",
       "      <th>UpOne</th>\n",
       "      <th>Predicted</th>\n",
       "    </tr>\n",
       "  </thead>\n",
       "  <tbody>\n",
       "    <tr>\n",
       "      <th>69331</th>\n",
       "      <td>203172</td>\n",
       "      <td>MLB</td>\n",
       "      <td>2017</td>\n",
       "      <td>Dunedin</td>\n",
       "      <td>FSL</td>\n",
       "      <td>A+</td>\n",
       "      <td>TOR</td>\n",
       "      <td>Guerrero</td>\n",
       "      <td>Vladimir</td>\n",
       "      <td>R</td>\n",
       "      <td>...</td>\n",
       "      <td>1.645623</td>\n",
       "      <td>-0.736960</td>\n",
       "      <td>0.261998</td>\n",
       "      <td>0.519652</td>\n",
       "      <td>-2.061351</td>\n",
       "      <td>AA</td>\n",
       "      <td>MLB</td>\n",
       "      <td>AAA</td>\n",
       "      <td>AA</td>\n",
       "      <td>MLB</td>\n",
       "    </tr>\n",
       "    <tr>\n",
       "      <th>69974</th>\n",
       "      <td>915</td>\n",
       "      <td>MLB</td>\n",
       "      <td>1996</td>\n",
       "      <td>West Palm Beach</td>\n",
       "      <td>FSL</td>\n",
       "      <td>A+</td>\n",
       "      <td>MON</td>\n",
       "      <td>Guerrero</td>\n",
       "      <td>Vladimir</td>\n",
       "      <td>R</td>\n",
       "      <td>...</td>\n",
       "      <td>-1.016516</td>\n",
       "      <td>-0.625536</td>\n",
       "      <td>0.099807</td>\n",
       "      <td>0.685442</td>\n",
       "      <td>-0.734147</td>\n",
       "      <td>AAA</td>\n",
       "      <td>MLB</td>\n",
       "      <td>AAA</td>\n",
       "      <td>AA</td>\n",
       "      <td>MLB</td>\n",
       "    </tr>\n",
       "    <tr>\n",
       "      <th>164969</th>\n",
       "      <td>5661</td>\n",
       "      <td>AAA</td>\n",
       "      <td>2002</td>\n",
       "      <td>Brevard County</td>\n",
       "      <td>FSL</td>\n",
       "      <td>A+</td>\n",
       "      <td>MON</td>\n",
       "      <td>Hernandez</td>\n",
       "      <td>Vladimir</td>\n",
       "      <td>R</td>\n",
       "      <td>...</td>\n",
       "      <td>-0.419595</td>\n",
       "      <td>-0.640327</td>\n",
       "      <td>0.625788</td>\n",
       "      <td>0.283552</td>\n",
       "      <td>0.950936</td>\n",
       "      <td>A-</td>\n",
       "      <td>MLB</td>\n",
       "      <td>AAA</td>\n",
       "      <td>AA</td>\n",
       "      <td>AAA</td>\n",
       "    </tr>\n",
       "    <tr>\n",
       "      <th>186493</th>\n",
       "      <td>46112</td>\n",
       "      <td>AAA</td>\n",
       "      <td>2012</td>\n",
       "      <td>Daytona</td>\n",
       "      <td>FSL</td>\n",
       "      <td>A+</td>\n",
       "      <td>CHN</td>\n",
       "      <td>Frias</td>\n",
       "      <td>Vladimir</td>\n",
       "      <td>B</td>\n",
       "      <td>...</td>\n",
       "      <td>0.226422</td>\n",
       "      <td>-0.157119</td>\n",
       "      <td>0.326684</td>\n",
       "      <td>1.211019</td>\n",
       "      <td>0.592764</td>\n",
       "      <td>AAA</td>\n",
       "      <td>MLB</td>\n",
       "      <td>AAA</td>\n",
       "      <td>AA</td>\n",
       "      <td>AAA</td>\n",
       "    </tr>\n",
       "    <tr>\n",
       "      <th>186496</th>\n",
       "      <td>46112</td>\n",
       "      <td>AAA</td>\n",
       "      <td>2011</td>\n",
       "      <td>Salem</td>\n",
       "      <td>Caro</td>\n",
       "      <td>A+</td>\n",
       "      <td>BOS</td>\n",
       "      <td>Frias</td>\n",
       "      <td>Vladimir</td>\n",
       "      <td>B</td>\n",
       "      <td>...</td>\n",
       "      <td>0.594425</td>\n",
       "      <td>-0.184193</td>\n",
       "      <td>0.120847</td>\n",
       "      <td>-0.746154</td>\n",
       "      <td>0.654356</td>\n",
       "      <td>A</td>\n",
       "      <td>MLB</td>\n",
       "      <td>AAA</td>\n",
       "      <td>AA</td>\n",
       "      <td>AAA</td>\n",
       "    </tr>\n",
       "    <tr>\n",
       "      <th>186499</th>\n",
       "      <td>46112</td>\n",
       "      <td>MLB</td>\n",
       "      <td>2009</td>\n",
       "      <td>San Jose</td>\n",
       "      <td>Calif</td>\n",
       "      <td>A+</td>\n",
       "      <td>SFN</td>\n",
       "      <td>Frias</td>\n",
       "      <td>Vladimir</td>\n",
       "      <td>B</td>\n",
       "      <td>...</td>\n",
       "      <td>0.211886</td>\n",
       "      <td>-0.072227</td>\n",
       "      <td>0.088455</td>\n",
       "      <td>-0.406578</td>\n",
       "      <td>-0.438412</td>\n",
       "      <td>A</td>\n",
       "      <td>MLB</td>\n",
       "      <td>AAA</td>\n",
       "      <td>AA</td>\n",
       "      <td>A+</td>\n",
       "    </tr>\n",
       "  </tbody>\n",
       "</table>\n",
       "<p>6 rows × 34 columns</p>\n",
       "</div>"
      ],
      "text/plain": [
       "        playerid TopLevel  year         teamName League Level orgName  \\\n",
       "69331     203172      MLB  2017          Dunedin    FSL    A+     TOR   \n",
       "69974        915      MLB  1996  West Palm Beach    FSL    A+     MON   \n",
       "164969      5661      AAA  2002   Brevard County    FSL    A+     MON   \n",
       "186493     46112      AAA  2012          Daytona    FSL    A+     CHN   \n",
       "186496     46112      AAA  2011            Salem   Caro    A+     BOS   \n",
       "186499     46112      MLB  2009         San Jose  Calif    A+     SFN   \n",
       "\n",
       "         lastName firstName Bats    ...           BB%        K%       SB%  \\\n",
       "69331    Guerrero  Vladimir    R    ...      1.645623 -0.736960  0.261998   \n",
       "69974    Guerrero  Vladimir    R    ...     -1.016516 -0.625536  0.099807   \n",
       "164969  Hernandez  Vladimir    R    ...     -0.419595 -0.640327  0.625788   \n",
       "186493      Frias  Vladimir    B    ...      0.226422 -0.157119  0.326684   \n",
       "186496      Frias  Vladimir    B    ...      0.594425 -0.184193  0.120847   \n",
       "186499      Frias  Vladimir    B    ...      0.211886 -0.072227  0.088455   \n",
       "\n",
       "           BABIP   DaysOld  Random  Pop  UpTwo  UpOne  Predicted  \n",
       "69331   0.519652 -2.061351      AA  MLB    AAA     AA        MLB  \n",
       "69974   0.685442 -0.734147     AAA  MLB    AAA     AA        MLB  \n",
       "164969  0.283552  0.950936      A-  MLB    AAA     AA        AAA  \n",
       "186493  1.211019  0.592764     AAA  MLB    AAA     AA        AAA  \n",
       "186496 -0.746154  0.654356       A  MLB    AAA     AA        AAA  \n",
       "186499 -0.406578 -0.438412       A  MLB    AAA     AA         A+  \n",
       "\n",
       "[6 rows x 34 columns]"
      ]
     },
     "execution_count": 35,
     "metadata": {},
     "output_type": "execute_result"
    }
   ],
   "source": [
    "final[final['firstName'] == 'Vladimir']"
   ]
  },
  {
   "cell_type": "code",
   "execution_count": 119,
   "metadata": {},
   "outputs": [],
   "source": [
    "#Saved the model\n",
    "model.save(\"Rk_Model.h5\")"
   ]
  },
  {
   "cell_type": "code",
   "execution_count": 42,
   "metadata": {},
   "outputs": [
    {
     "data": {
      "text/plain": [
       "Index(['playerid', 'TopLevel', 'year', 'teamName', 'League', 'Level',\n",
       "       'orgName', 'lastName', 'firstName', 'Bats', 'Throws', 'posit',\n",
       "       'borndate', 'mlbid', 'PA', 'AVG', 'SLG', 'OBP', 'OPS', 'Age', 'HT',\n",
       "       'WT', 'DEF', 'ISO', 'BB%', 'K%', 'SB%', 'BABIP', 'DaysOld', 'Random',\n",
       "       'Pop', 'UpTwo', 'UpOne', 'Predicted'],\n",
       "      dtype='object')"
      ]
     },
     "execution_count": 42,
     "metadata": {},
     "output_type": "execute_result"
    }
   ],
   "source": [
    "final.columns"
   ]
  },
  {
   "cell_type": "code",
   "execution_count": 53,
   "metadata": {},
   "outputs": [],
   "source": [
    "final['Name'] = final.firstName + \" \" + final.lastName"
   ]
  },
  {
   "cell_type": "code",
   "execution_count": 49,
   "metadata": {},
   "outputs": [],
   "source": [
    "final = final.rename(columns={\"BB%\": 'BB', \"K%\": \"K\", 'SB%': 'SB'})"
   ]
  },
  {
   "cell_type": "code",
   "execution_count": 54,
   "metadata": {},
   "outputs": [
    {
     "data": {
      "text/html": [
       "<div>\n",
       "<style scoped>\n",
       "    .dataframe tbody tr th:only-of-type {\n",
       "        vertical-align: middle;\n",
       "    }\n",
       "\n",
       "    .dataframe tbody tr th {\n",
       "        vertical-align: top;\n",
       "    }\n",
       "\n",
       "    .dataframe thead th {\n",
       "        text-align: right;\n",
       "    }\n",
       "</style>\n",
       "<table border=\"1\" class=\"dataframe\">\n",
       "  <thead>\n",
       "    <tr style=\"text-align: right;\">\n",
       "      <th></th>\n",
       "      <th>playerid</th>\n",
       "      <th>TopLevel</th>\n",
       "      <th>year</th>\n",
       "      <th>teamName</th>\n",
       "      <th>League</th>\n",
       "      <th>Level</th>\n",
       "      <th>orgName</th>\n",
       "      <th>lastName</th>\n",
       "      <th>firstName</th>\n",
       "      <th>Bats</th>\n",
       "      <th>...</th>\n",
       "      <th>K</th>\n",
       "      <th>SB</th>\n",
       "      <th>BABIP</th>\n",
       "      <th>DaysOld</th>\n",
       "      <th>Random</th>\n",
       "      <th>Pop</th>\n",
       "      <th>UpTwo</th>\n",
       "      <th>UpOne</th>\n",
       "      <th>Predicted</th>\n",
       "      <th>Name</th>\n",
       "    </tr>\n",
       "  </thead>\n",
       "  <tbody>\n",
       "    <tr>\n",
       "      <th>0</th>\n",
       "      <td>1509</td>\n",
       "      <td>A+</td>\n",
       "      <td>1988</td>\n",
       "      <td>Charlotte</td>\n",
       "      <td>FSL</td>\n",
       "      <td>A+</td>\n",
       "      <td>TEX</td>\n",
       "      <td>Paula</td>\n",
       "      <td>Julio</td>\n",
       "      <td>B</td>\n",
       "      <td>...</td>\n",
       "      <td>-0.379</td>\n",
       "      <td>-1.175</td>\n",
       "      <td>-0.433</td>\n",
       "      <td>3.175</td>\n",
       "      <td>AAA</td>\n",
       "      <td>MLB</td>\n",
       "      <td>AAA</td>\n",
       "      <td>AA</td>\n",
       "      <td>AAA</td>\n",
       "      <td>Julio Paula</td>\n",
       "    </tr>\n",
       "    <tr>\n",
       "      <th>4</th>\n",
       "      <td>1509</td>\n",
       "      <td>A+</td>\n",
       "      <td>1981</td>\n",
       "      <td>Kinston</td>\n",
       "      <td>Caro</td>\n",
       "      <td>A+</td>\n",
       "      <td>TOR</td>\n",
       "      <td>Paula</td>\n",
       "      <td>Julio</td>\n",
       "      <td>B</td>\n",
       "      <td>...</td>\n",
       "      <td>-0.560</td>\n",
       "      <td>0.531</td>\n",
       "      <td>0.158</td>\n",
       "      <td>0.145</td>\n",
       "      <td>A</td>\n",
       "      <td>MLB</td>\n",
       "      <td>AAA</td>\n",
       "      <td>AA</td>\n",
       "      <td>A+</td>\n",
       "      <td>Julio Paula</td>\n",
       "    </tr>\n",
       "    <tr>\n",
       "      <th>5</th>\n",
       "      <td>1509</td>\n",
       "      <td>A+</td>\n",
       "      <td>1980</td>\n",
       "      <td>Kinston</td>\n",
       "      <td>Caro</td>\n",
       "      <td>A+</td>\n",
       "      <td>TOR</td>\n",
       "      <td>Paula</td>\n",
       "      <td>Julio</td>\n",
       "      <td>B</td>\n",
       "      <td>...</td>\n",
       "      <td>-0.440</td>\n",
       "      <td>0.143</td>\n",
       "      <td>-0.214</td>\n",
       "      <td>-0.337</td>\n",
       "      <td>AA</td>\n",
       "      <td>MLB</td>\n",
       "      <td>AAA</td>\n",
       "      <td>AA</td>\n",
       "      <td>A+</td>\n",
       "      <td>Julio Paula</td>\n",
       "    </tr>\n",
       "    <tr>\n",
       "      <th>6</th>\n",
       "      <td>1509</td>\n",
       "      <td>A+</td>\n",
       "      <td>1983</td>\n",
       "      <td>Lynchburg</td>\n",
       "      <td>Caro</td>\n",
       "      <td>A+</td>\n",
       "      <td>NYN</td>\n",
       "      <td>Paula</td>\n",
       "      <td>Julio</td>\n",
       "      <td>B</td>\n",
       "      <td>...</td>\n",
       "      <td>-0.021</td>\n",
       "      <td>0.552</td>\n",
       "      <td>-0.229</td>\n",
       "      <td>1.008</td>\n",
       "      <td>AA</td>\n",
       "      <td>MLB</td>\n",
       "      <td>AAA</td>\n",
       "      <td>AA</td>\n",
       "      <td>A+</td>\n",
       "      <td>Julio Paula</td>\n",
       "    </tr>\n",
       "    <tr>\n",
       "      <th>7</th>\n",
       "      <td>1509</td>\n",
       "      <td>A+</td>\n",
       "      <td>1984</td>\n",
       "      <td>Lynchburg</td>\n",
       "      <td>Caro</td>\n",
       "      <td>A+</td>\n",
       "      <td>NYN</td>\n",
       "      <td>Paula</td>\n",
       "      <td>Julio</td>\n",
       "      <td>B</td>\n",
       "      <td>...</td>\n",
       "      <td>-0.577</td>\n",
       "      <td>0.985</td>\n",
       "      <td>0.284</td>\n",
       "      <td>1.123</td>\n",
       "      <td>A+</td>\n",
       "      <td>MLB</td>\n",
       "      <td>AAA</td>\n",
       "      <td>AA</td>\n",
       "      <td>AAA</td>\n",
       "      <td>Julio Paula</td>\n",
       "    </tr>\n",
       "  </tbody>\n",
       "</table>\n",
       "<p>5 rows × 35 columns</p>\n",
       "</div>"
      ],
      "text/plain": [
       "   playerid TopLevel  year   teamName League Level orgName lastName firstName  \\\n",
       "0      1509       A+  1988  Charlotte    FSL    A+     TEX    Paula     Julio   \n",
       "4      1509       A+  1981    Kinston   Caro    A+     TOR    Paula     Julio   \n",
       "5      1509       A+  1980    Kinston   Caro    A+     TOR    Paula     Julio   \n",
       "6      1509       A+  1983  Lynchburg   Caro    A+     NYN    Paula     Julio   \n",
       "7      1509       A+  1984  Lynchburg   Caro    A+     NYN    Paula     Julio   \n",
       "\n",
       "  Bats     ...           K     SB  BABIP  DaysOld  Random  Pop  UpTwo  UpOne  \\\n",
       "0    B     ...      -0.379 -1.175 -0.433    3.175     AAA  MLB    AAA     AA   \n",
       "4    B     ...      -0.560  0.531  0.158    0.145       A  MLB    AAA     AA   \n",
       "5    B     ...      -0.440  0.143 -0.214   -0.337      AA  MLB    AAA     AA   \n",
       "6    B     ...      -0.021  0.552 -0.229    1.008      AA  MLB    AAA     AA   \n",
       "7    B     ...      -0.577  0.985  0.284    1.123      A+  MLB    AAA     AA   \n",
       "\n",
       "   Predicted         Name  \n",
       "0        AAA  Julio Paula  \n",
       "4         A+  Julio Paula  \n",
       "5         A+  Julio Paula  \n",
       "6         A+  Julio Paula  \n",
       "7        AAA  Julio Paula  \n",
       "\n",
       "[5 rows x 35 columns]"
      ]
     },
     "execution_count": 54,
     "metadata": {},
     "output_type": "execute_result"
    }
   ],
   "source": [
    "final = final.round({'AVG': 3, 'SLG': 3, 'OBP': 3, 'OPS': 3, 'Age': 3, 'HT': 3, 'WT': 3, 'DEF': 3, 'ISO': 3, 'BB%': 3, 'K%': 3, 'SB%': 3, 'BABIP': 3, 'DaysOld': 3})\n",
    "final.head()"
   ]
  },
  {
   "cell_type": "code",
   "execution_count": 34,
   "metadata": {},
   "outputs": [],
   "source": [
    "final = final.replace({\"TopLevel\" : releveler, \"Level\" : releveler, \"Predicted\" : releveler, \"Random\" : releveler, \"Pop\" : releveler, \"UpTwo\" : releveler, \"UpOne\" : releveler, \"Predicted\" : releveler})"
   ]
  },
  {
   "cell_type": "code",
   "execution_count": 139,
   "metadata": {},
   "outputs": [],
   "source": [
    "final.to_csv(\"Predicts.csv\")"
   ]
  },
  {
   "cell_type": "code",
   "execution_count": 104,
   "metadata": {},
   "outputs": [],
   "source": [
    "filename = \"Models/randomforest.h5\""
   ]
  },
  {
   "cell_type": "code",
   "execution_count": 105,
   "metadata": {},
   "outputs": [],
   "source": [
    "pickle.dump(rf, open(filename, 'wb'))"
   ]
  },
  {
   "cell_type": "code",
   "execution_count": 37,
   "metadata": {},
   "outputs": [],
   "source": [
    "import sqlite3"
   ]
  },
  {
   "cell_type": "code",
   "execution_count": 38,
   "metadata": {},
   "outputs": [],
   "source": [
    "con = sqlite3.connect(\"sqlite:///../Models/model.sqlite\")\n",
    "cur = con.cursor()"
   ]
  },
  {
   "cell_type": "code",
   "execution_count": 55,
   "metadata": {},
   "outputs": [],
   "source": [
    "final.to_sql('Modeldata', con, if_exists='replace', index=False)"
   ]
  },
  {
   "cell_type": "code",
   "execution_count": 56,
   "metadata": {},
   "outputs": [],
   "source": [
    "example = pd.read_sql_query(\"SELECT * from Modeldata WHERE firstName='Vladimir'\", con)"
   ]
  },
  {
   "cell_type": "code",
   "execution_count": 57,
   "metadata": {},
   "outputs": [
    {
     "data": {
      "text/html": [
       "<div>\n",
       "<style scoped>\n",
       "    .dataframe tbody tr th:only-of-type {\n",
       "        vertical-align: middle;\n",
       "    }\n",
       "\n",
       "    .dataframe tbody tr th {\n",
       "        vertical-align: top;\n",
       "    }\n",
       "\n",
       "    .dataframe thead th {\n",
       "        text-align: right;\n",
       "    }\n",
       "</style>\n",
       "<table border=\"1\" class=\"dataframe\">\n",
       "  <thead>\n",
       "    <tr style=\"text-align: right;\">\n",
       "      <th></th>\n",
       "      <th>playerid</th>\n",
       "      <th>TopLevel</th>\n",
       "      <th>year</th>\n",
       "      <th>teamName</th>\n",
       "      <th>League</th>\n",
       "      <th>Level</th>\n",
       "      <th>orgName</th>\n",
       "      <th>lastName</th>\n",
       "      <th>firstName</th>\n",
       "      <th>Bats</th>\n",
       "      <th>...</th>\n",
       "      <th>K</th>\n",
       "      <th>SB</th>\n",
       "      <th>BABIP</th>\n",
       "      <th>DaysOld</th>\n",
       "      <th>Random</th>\n",
       "      <th>Pop</th>\n",
       "      <th>UpTwo</th>\n",
       "      <th>UpOne</th>\n",
       "      <th>Predicted</th>\n",
       "      <th>Name</th>\n",
       "    </tr>\n",
       "  </thead>\n",
       "  <tbody>\n",
       "    <tr>\n",
       "      <th>0</th>\n",
       "      <td>203172</td>\n",
       "      <td>MLB</td>\n",
       "      <td>2017</td>\n",
       "      <td>Dunedin</td>\n",
       "      <td>FSL</td>\n",
       "      <td>A+</td>\n",
       "      <td>TOR</td>\n",
       "      <td>Guerrero</td>\n",
       "      <td>Vladimir</td>\n",
       "      <td>R</td>\n",
       "      <td>...</td>\n",
       "      <td>-0.737</td>\n",
       "      <td>0.262</td>\n",
       "      <td>0.520</td>\n",
       "      <td>-2.061</td>\n",
       "      <td>AA</td>\n",
       "      <td>MLB</td>\n",
       "      <td>AAA</td>\n",
       "      <td>AA</td>\n",
       "      <td>MLB</td>\n",
       "      <td>Vladimir Guerrero</td>\n",
       "    </tr>\n",
       "    <tr>\n",
       "      <th>1</th>\n",
       "      <td>915</td>\n",
       "      <td>MLB</td>\n",
       "      <td>1996</td>\n",
       "      <td>West Palm Beach</td>\n",
       "      <td>FSL</td>\n",
       "      <td>A+</td>\n",
       "      <td>MON</td>\n",
       "      <td>Guerrero</td>\n",
       "      <td>Vladimir</td>\n",
       "      <td>R</td>\n",
       "      <td>...</td>\n",
       "      <td>-0.626</td>\n",
       "      <td>0.100</td>\n",
       "      <td>0.685</td>\n",
       "      <td>-0.734</td>\n",
       "      <td>AAA</td>\n",
       "      <td>MLB</td>\n",
       "      <td>AAA</td>\n",
       "      <td>AA</td>\n",
       "      <td>MLB</td>\n",
       "      <td>Vladimir Guerrero</td>\n",
       "    </tr>\n",
       "    <tr>\n",
       "      <th>2</th>\n",
       "      <td>5661</td>\n",
       "      <td>AAA</td>\n",
       "      <td>2002</td>\n",
       "      <td>Brevard County</td>\n",
       "      <td>FSL</td>\n",
       "      <td>A+</td>\n",
       "      <td>MON</td>\n",
       "      <td>Hernandez</td>\n",
       "      <td>Vladimir</td>\n",
       "      <td>R</td>\n",
       "      <td>...</td>\n",
       "      <td>-0.640</td>\n",
       "      <td>0.626</td>\n",
       "      <td>0.284</td>\n",
       "      <td>0.951</td>\n",
       "      <td>A-</td>\n",
       "      <td>MLB</td>\n",
       "      <td>AAA</td>\n",
       "      <td>AA</td>\n",
       "      <td>AAA</td>\n",
       "      <td>Vladimir Hernandez</td>\n",
       "    </tr>\n",
       "    <tr>\n",
       "      <th>3</th>\n",
       "      <td>46112</td>\n",
       "      <td>AAA</td>\n",
       "      <td>2012</td>\n",
       "      <td>Daytona</td>\n",
       "      <td>FSL</td>\n",
       "      <td>A+</td>\n",
       "      <td>CHN</td>\n",
       "      <td>Frias</td>\n",
       "      <td>Vladimir</td>\n",
       "      <td>B</td>\n",
       "      <td>...</td>\n",
       "      <td>-0.157</td>\n",
       "      <td>0.327</td>\n",
       "      <td>1.211</td>\n",
       "      <td>0.593</td>\n",
       "      <td>AAA</td>\n",
       "      <td>MLB</td>\n",
       "      <td>AAA</td>\n",
       "      <td>AA</td>\n",
       "      <td>AAA</td>\n",
       "      <td>Vladimir Frias</td>\n",
       "    </tr>\n",
       "    <tr>\n",
       "      <th>4</th>\n",
       "      <td>46112</td>\n",
       "      <td>AAA</td>\n",
       "      <td>2011</td>\n",
       "      <td>Salem</td>\n",
       "      <td>Caro</td>\n",
       "      <td>A+</td>\n",
       "      <td>BOS</td>\n",
       "      <td>Frias</td>\n",
       "      <td>Vladimir</td>\n",
       "      <td>B</td>\n",
       "      <td>...</td>\n",
       "      <td>-0.184</td>\n",
       "      <td>0.121</td>\n",
       "      <td>-0.746</td>\n",
       "      <td>0.654</td>\n",
       "      <td>A</td>\n",
       "      <td>MLB</td>\n",
       "      <td>AAA</td>\n",
       "      <td>AA</td>\n",
       "      <td>AAA</td>\n",
       "      <td>Vladimir Frias</td>\n",
       "    </tr>\n",
       "    <tr>\n",
       "      <th>5</th>\n",
       "      <td>46112</td>\n",
       "      <td>MLB</td>\n",
       "      <td>2009</td>\n",
       "      <td>San Jose</td>\n",
       "      <td>Calif</td>\n",
       "      <td>A+</td>\n",
       "      <td>SFN</td>\n",
       "      <td>Frias</td>\n",
       "      <td>Vladimir</td>\n",
       "      <td>B</td>\n",
       "      <td>...</td>\n",
       "      <td>-0.072</td>\n",
       "      <td>0.088</td>\n",
       "      <td>-0.407</td>\n",
       "      <td>-0.438</td>\n",
       "      <td>A</td>\n",
       "      <td>MLB</td>\n",
       "      <td>AAA</td>\n",
       "      <td>AA</td>\n",
       "      <td>A+</td>\n",
       "      <td>Vladimir Frias</td>\n",
       "    </tr>\n",
       "  </tbody>\n",
       "</table>\n",
       "<p>6 rows × 35 columns</p>\n",
       "</div>"
      ],
      "text/plain": [
       "   playerid TopLevel  year         teamName League Level orgName   lastName  \\\n",
       "0    203172      MLB  2017          Dunedin    FSL    A+     TOR   Guerrero   \n",
       "1       915      MLB  1996  West Palm Beach    FSL    A+     MON   Guerrero   \n",
       "2      5661      AAA  2002   Brevard County    FSL    A+     MON  Hernandez   \n",
       "3     46112      AAA  2012          Daytona    FSL    A+     CHN      Frias   \n",
       "4     46112      AAA  2011            Salem   Caro    A+     BOS      Frias   \n",
       "5     46112      MLB  2009         San Jose  Calif    A+     SFN      Frias   \n",
       "\n",
       "  firstName Bats         ...              K     SB  BABIP  DaysOld  Random  \\\n",
       "0  Vladimir    R         ...         -0.737  0.262  0.520   -2.061      AA   \n",
       "1  Vladimir    R         ...         -0.626  0.100  0.685   -0.734     AAA   \n",
       "2  Vladimir    R         ...         -0.640  0.626  0.284    0.951      A-   \n",
       "3  Vladimir    B         ...         -0.157  0.327  1.211    0.593     AAA   \n",
       "4  Vladimir    B         ...         -0.184  0.121 -0.746    0.654       A   \n",
       "5  Vladimir    B         ...         -0.072  0.088 -0.407   -0.438       A   \n",
       "\n",
       "   Pop  UpTwo  UpOne  Predicted                Name  \n",
       "0  MLB    AAA     AA        MLB   Vladimir Guerrero  \n",
       "1  MLB    AAA     AA        MLB   Vladimir Guerrero  \n",
       "2  MLB    AAA     AA        AAA  Vladimir Hernandez  \n",
       "3  MLB    AAA     AA        AAA      Vladimir Frias  \n",
       "4  MLB    AAA     AA        AAA      Vladimir Frias  \n",
       "5  MLB    AAA     AA         A+      Vladimir Frias  \n",
       "\n",
       "[6 rows x 35 columns]"
      ]
     },
     "execution_count": 57,
     "metadata": {},
     "output_type": "execute_result"
    }
   ],
   "source": [
    "example"
   ]
  },
  {
   "cell_type": "code",
   "execution_count": null,
   "metadata": {},
   "outputs": [],
   "source": []
  }
 ],
 "metadata": {
  "kernelspec": {
   "display_name": "Python 3",
   "language": "python",
   "name": "python3"
  },
  "language_info": {
   "codemirror_mode": {
    "name": "ipython",
    "version": 3
   },
   "file_extension": ".py",
   "mimetype": "text/x-python",
   "name": "python",
   "nbconvert_exporter": "python",
   "pygments_lexer": "ipython3",
   "version": "3.7.1"
  }
 },
 "nbformat": 4,
 "nbformat_minor": 2
}
