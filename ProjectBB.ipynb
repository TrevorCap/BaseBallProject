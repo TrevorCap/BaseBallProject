{
 "cells": [
  {
   "cell_type": "code",
   "execution_count": 1,
   "metadata": {},
   "outputs": [],
   "source": [
    "# Import dependencies\n",
    "\n",
    "#pybaseball is a baseball-specific scraping tool that can pull statistics from several different websites\n",
    "# Read about it here: https://jamesrledoux.com/projects/open-source/introducing-pybaseball/\n",
    "import pybaseball\n",
    "from pybaseball import statcast_pitcher\n",
    "from pybaseball import playerid_lookup\n",
    "from pybaseball import batting_stats\n",
    "\n",
    "\n",
    "# More basic dependencies\n",
    "import pandas as pd\n",
    "import matplotlib.pyplot as plt\n",
    "\n",
    "# Some extra ones for fun\n",
    "from sklearn.ensemble import RandomForestRegressor\n",
    "from sklearn import metrics as mt"
   ]
  },
  {
   "cell_type": "code",
   "execution_count": 2,
   "metadata": {},
   "outputs": [],
   "source": [
    "# Import the data\n",
    "stat_data2018 = pd.read_csv(\"resources/sprint_speed_2018.csv\")\n",
    "stat_data2018 = stat_data2018.rename(index=str, columns= {\"player_id\": \"key_mlbam\"})\n",
    "\n",
    "stat_data2019 = pd.read_csv(\"resources/sprint_speed2019.csv\")\n",
    "stat_data2019 = stat_data2019.rename(index=str, columns= {\"player_id\": \"key_mlbam\"})\n",
    "\n",
    "# NOTE: This was necessary the first time the data was imported.\n",
    "# An earlier version of this code replaced the original data with the cleaned version and as such, using this over and over would no longer work\n",
    "# stat_data2018['first_name'] = stat_data2018[' first_name'].str[1:]\n",
    "# stat_data2018['first_name'] = stat_data2018[' first_name'].str[1:]"
   ]
  },
  {
   "cell_type": "code",
   "execution_count": 3,
   "metadata": {},
   "outputs": [],
   "source": [
    "# retrieve data on only players who have 50+ plate appearances this year\n",
    "bat_data2018 = batting_stats(2018, qual=50)\n",
    "bat_data2019 = batting_stats(2019, qual=50)"
   ]
  },
  {
   "cell_type": "code",
   "execution_count": 4,
   "metadata": {},
   "outputs": [
    {
     "name": "stdout",
     "output_type": "stream",
     "text": [
      "Gathering player lookup table. This may take a moment.\n",
      "Gathering player lookup table. This may take a moment.\n"
     ]
    }
   ],
   "source": [
    "fangraphsids_db = pybaseball.playerid_reverse_lookup(stat_data2018.key_mlbam, key_type='mlbam')\n",
    "fangraphsids_db2 = pybaseball.playerid_reverse_lookup(stat_data2019.key_mlbam, key_type='mlbam')"
   ]
  },
  {
   "cell_type": "code",
   "execution_count": 5,
   "metadata": {},
   "outputs": [],
   "source": [
    "labelled18 = stat_data2018.merge(fangraphsids_db, how='left', on='key_mlbam' )\n",
    "labelled18 = labelled18.drop(columns=['team', 'age'])\n",
    "labelled19 = stat_data2019.merge(fangraphsids_db2, how='left', on='key_mlbam' )\n",
    "labelled19 = labelled19.drop(columns=['team', 'age'])"
   ]
  },
  {
   "cell_type": "code",
   "execution_count": null,
   "metadata": {},
   "outputs": [],
   "source": []
  },
  {
   "cell_type": "code",
   "execution_count": 6,
   "metadata": {},
   "outputs": [],
   "source": [
    "labelled18['Name'] = labelled18['first_name'] + \" \" + labelled18['last_name']\n",
    "labelled19['Name'] = labelled19['first_name'] + \" \" + labelled19['last_name']"
   ]
  },
  {
   "cell_type": "code",
   "execution_count": null,
   "metadata": {},
   "outputs": [],
   "source": []
  },
  {
   "cell_type": "code",
   "execution_count": 7,
   "metadata": {},
   "outputs": [],
   "source": [
    "total2018 = labelled18.merge(bat_data2018, how='left', on='Name')\n",
    "total2019 = labelled19.merge(bat_data2019, how='left', on='Name')"
   ]
  },
  {
   "cell_type": "code",
   "execution_count": null,
   "metadata": {},
   "outputs": [],
   "source": []
  },
  {
   "cell_type": "code",
   "execution_count": 8,
   "metadata": {},
   "outputs": [],
   "source": [
    "CFers = total2018[total2018.position.str.endswith('F')]"
   ]
  },
  {
   "cell_type": "code",
   "execution_count": 9,
   "metadata": {},
   "outputs": [
    {
     "data": {
      "text/html": [
       "<div>\n",
       "<style scoped>\n",
       "    .dataframe tbody tr th:only-of-type {\n",
       "        vertical-align: middle;\n",
       "    }\n",
       "\n",
       "    .dataframe tbody tr th {\n",
       "        vertical-align: top;\n",
       "    }\n",
       "\n",
       "    .dataframe thead th {\n",
       "        text-align: right;\n",
       "    }\n",
       "</style>\n",
       "<table border=\"1\" class=\"dataframe\">\n",
       "  <thead>\n",
       "    <tr style=\"text-align: right;\">\n",
       "      <th></th>\n",
       "      <th>last_name</th>\n",
       "      <th>first_name</th>\n",
       "      <th>key_mlbam</th>\n",
       "      <th>team_id</th>\n",
       "      <th>position</th>\n",
       "      <th>competitive_runs</th>\n",
       "      <th>hp_to_1b</th>\n",
       "      <th>sprint_speed</th>\n",
       "      <th>name_last</th>\n",
       "      <th>name_first</th>\n",
       "      <th>...</th>\n",
       "      <th>wSL/C (pi)</th>\n",
       "      <th>wXX/C (pi)</th>\n",
       "      <th>O-Swing% (pi)</th>\n",
       "      <th>Z-Swing% (pi)</th>\n",
       "      <th>Swing% (pi)</th>\n",
       "      <th>O-Contact% (pi)</th>\n",
       "      <th>Z-Contact% (pi)</th>\n",
       "      <th>Contact% (pi)</th>\n",
       "      <th>Zone% (pi)</th>\n",
       "      <th>Pace (pi)</th>\n",
       "    </tr>\n",
       "  </thead>\n",
       "  <tbody>\n",
       "    <tr>\n",
       "      <th>0</th>\n",
       "      <td>Buxton</td>\n",
       "      <td>Byron</td>\n",
       "      <td>621439</td>\n",
       "      <td>142</td>\n",
       "      <td>CF</td>\n",
       "      <td>35</td>\n",
       "      <td>3.98</td>\n",
       "      <td>30.5</td>\n",
       "      <td>buxton</td>\n",
       "      <td>byron</td>\n",
       "      <td>...</td>\n",
       "      <td>-1.59</td>\n",
       "      <td>NaN</td>\n",
       "      <td>0.367</td>\n",
       "      <td>0.694</td>\n",
       "      <td>0.532</td>\n",
       "      <td>0.554</td>\n",
       "      <td>0.832</td>\n",
       "      <td>0.737</td>\n",
       "      <td>0.504</td>\n",
       "      <td>22.6</td>\n",
       "    </tr>\n",
       "    <tr>\n",
       "      <th>1</th>\n",
       "      <td>Sierra</td>\n",
       "      <td>Magneuris</td>\n",
       "      <td>642423</td>\n",
       "      <td>146</td>\n",
       "      <td>CF</td>\n",
       "      <td>63</td>\n",
       "      <td>3.91</td>\n",
       "      <td>30.2</td>\n",
       "      <td>sierra</td>\n",
       "      <td>magneuris</td>\n",
       "      <td>...</td>\n",
       "      <td>-3.16</td>\n",
       "      <td>NaN</td>\n",
       "      <td>0.411</td>\n",
       "      <td>0.615</td>\n",
       "      <td>0.513</td>\n",
       "      <td>0.595</td>\n",
       "      <td>0.901</td>\n",
       "      <td>0.777</td>\n",
       "      <td>0.496</td>\n",
       "      <td>22.0</td>\n",
       "    </tr>\n",
       "    <tr>\n",
       "      <th>2</th>\n",
       "      <td>Quinn</td>\n",
       "      <td>Roman</td>\n",
       "      <td>596451</td>\n",
       "      <td>143</td>\n",
       "      <td>CF</td>\n",
       "      <td>56</td>\n",
       "      <td>3.88</td>\n",
       "      <td>30.2</td>\n",
       "      <td>quinn</td>\n",
       "      <td>roman</td>\n",
       "      <td>...</td>\n",
       "      <td>0.94</td>\n",
       "      <td>NaN</td>\n",
       "      <td>0.235</td>\n",
       "      <td>0.696</td>\n",
       "      <td>0.479</td>\n",
       "      <td>0.452</td>\n",
       "      <td>0.830</td>\n",
       "      <td>0.743</td>\n",
       "      <td>0.529</td>\n",
       "      <td>22.4</td>\n",
       "    </tr>\n",
       "    <tr>\n",
       "      <th>3</th>\n",
       "      <td>Engel</td>\n",
       "      <td>Adam</td>\n",
       "      <td>641553</td>\n",
       "      <td>145</td>\n",
       "      <td>CF</td>\n",
       "      <td>181</td>\n",
       "      <td>4.08</td>\n",
       "      <td>30.1</td>\n",
       "      <td>engel</td>\n",
       "      <td>adam</td>\n",
       "      <td>...</td>\n",
       "      <td>-2.48</td>\n",
       "      <td>-2.79</td>\n",
       "      <td>0.394</td>\n",
       "      <td>0.669</td>\n",
       "      <td>0.528</td>\n",
       "      <td>0.513</td>\n",
       "      <td>0.823</td>\n",
       "      <td>0.704</td>\n",
       "      <td>0.486</td>\n",
       "      <td>24.0</td>\n",
       "    </tr>\n",
       "    <tr>\n",
       "      <th>4</th>\n",
       "      <td>Hamilton</td>\n",
       "      <td>Billy</td>\n",
       "      <td>571740</td>\n",
       "      <td>113</td>\n",
       "      <td>CF</td>\n",
       "      <td>203</td>\n",
       "      <td>3.94</td>\n",
       "      <td>30.1</td>\n",
       "      <td>hamilton</td>\n",
       "      <td>billy</td>\n",
       "      <td>...</td>\n",
       "      <td>-1.44</td>\n",
       "      <td>-17.84</td>\n",
       "      <td>0.303</td>\n",
       "      <td>0.642</td>\n",
       "      <td>0.476</td>\n",
       "      <td>0.692</td>\n",
       "      <td>0.826</td>\n",
       "      <td>0.784</td>\n",
       "      <td>0.510</td>\n",
       "      <td>21.5</td>\n",
       "    </tr>\n",
       "  </tbody>\n",
       "</table>\n",
       "<p>5 rows × 302 columns</p>\n",
       "</div>"
      ],
      "text/plain": [
       "  last_name first_name  key_mlbam  team_id position  competitive_runs  \\\n",
       "0    Buxton      Byron     621439      142       CF                35   \n",
       "1    Sierra  Magneuris     642423      146       CF                63   \n",
       "2     Quinn      Roman     596451      143       CF                56   \n",
       "3     Engel       Adam     641553      145       CF               181   \n",
       "4  Hamilton      Billy     571740      113       CF               203   \n",
       "\n",
       "   hp_to_1b  sprint_speed name_last name_first    ...     wSL/C (pi)  \\\n",
       "0      3.98          30.5    buxton      byron    ...          -1.59   \n",
       "1      3.91          30.2    sierra  magneuris    ...          -3.16   \n",
       "2      3.88          30.2     quinn      roman    ...           0.94   \n",
       "3      4.08          30.1     engel       adam    ...          -2.48   \n",
       "4      3.94          30.1  hamilton      billy    ...          -1.44   \n",
       "\n",
       "  wXX/C (pi)  O-Swing% (pi)  Z-Swing% (pi)  Swing% (pi) O-Contact% (pi)  \\\n",
       "0        NaN          0.367          0.694        0.532           0.554   \n",
       "1        NaN          0.411          0.615        0.513           0.595   \n",
       "2        NaN          0.235          0.696        0.479           0.452   \n",
       "3      -2.79          0.394          0.669        0.528           0.513   \n",
       "4     -17.84          0.303          0.642        0.476           0.692   \n",
       "\n",
       "   Z-Contact% (pi) Contact% (pi)  Zone% (pi)  Pace (pi)  \n",
       "0            0.832         0.737       0.504       22.6  \n",
       "1            0.901         0.777       0.496       22.0  \n",
       "2            0.830         0.743       0.529       22.4  \n",
       "3            0.823         0.704       0.486       24.0  \n",
       "4            0.826         0.784       0.510       21.5  \n",
       "\n",
       "[5 rows x 302 columns]"
      ]
     },
     "execution_count": 9,
     "metadata": {},
     "output_type": "execute_result"
    }
   ],
   "source": [
    "total2018.head()"
   ]
  },
  {
   "cell_type": "code",
   "execution_count": 10,
   "metadata": {},
   "outputs": [
    {
     "data": {
      "text/plain": [
       "<matplotlib.collections.PathCollection at 0x247e01e4ba8>"
      ]
     },
     "execution_count": 10,
     "metadata": {},
     "output_type": "execute_result"
    },
    {
     "data": {
      "image/png": "[encoded data removed]",
      "text/plain": [
       "<Figure size 432x288 with 1 Axes>"
      ]
     },
     "metadata": {
      "needs_background": "light"
     },
     "output_type": "display_data"
    }
   ],
   "source": [
    "plt.scatter(CFers.sprint_speed, CFers.Fld)"
   ]
  },
  {
   "cell_type": "code",
   "execution_count": 11,
   "metadata": {},
   "outputs": [
    {
     "data": {
      "text/plain": [
       "<matplotlib.collections.PathCollection at 0x24783ecf5f8>"
      ]
     },
     "execution_count": 11,
     "metadata": {},
     "output_type": "execute_result"
    },
    {
     "data": {
      "image/png": "[encoded data removed]",
      "text/plain": [
       "<Figure size 432x288 with 1 Axes>"
      ]
     },
     "metadata": {
      "needs_background": "light"
     },
     "output_type": "display_data"
    }
   ],
   "source": [
    "plt.scatter(total2018.sprint_speed, total2018.UBR)\n"
   ]
  },
  {
   "cell_type": "code",
   "execution_count": 12,
   "metadata": {},
   "outputs": [],
   "source": [
    "test2018 = CFers[['Name', 'Fld', 'sprint_speed', 'hp_to_1b']]\n",
    "test2018 = test2018.dropna(subset=['Fld', 'sprint_speed', 'hp_to_1b'])\n",
    "\n",
    "mdl = RandomForestRegressor()\n"
   ]
  },
  {
   "cell_type": "code",
   "execution_count": 13,
   "metadata": {},
   "outputs": [
    {
     "name": "stderr",
     "output_type": "stream",
     "text": [
      "C:\\Users\\alana\\Anaconda3\\lib\\site-packages\\sklearn\\ensemble\\forest.py:246: FutureWarning: The default value of n_estimators will change from 10 in version 0.20 to 100 in 0.22.\n",
      "  \"10 in version 0.20 to 100 in 0.22.\", FutureWarning)\n"
     ]
    }
   ],
   "source": [
    "mdl.fit(test2018[['sprint_speed', 'hp_to_1b']], test2018.Fld)\n",
    "sco = mdl.score(test2018[['sprint_speed', 'hp_to_1b']], test2018.Fld)\n",
    "predict = mdl.predict(test2018[['sprint_speed', 'hp_to_1b']])\n"
   ]
  },
  {
   "cell_type": "code",
   "execution_count": 18,
   "metadata": {},
   "outputs": [
    {
     "data": {
      "image/png": "[encoded data removed]",
      "text/plain": [
       "<Figure size 432x288 with 1 Axes>"
      ]
     },
     "metadata": {
      "needs_background": "light"
     },
     "output_type": "display_data"
    }
   ],
   "source": [
    "plt.scatter(test2018.Fld, predict)\n",
    "plt.title(f'R2 of {round(sco,2)}')\n",
    "plt.show()"
   ]
  },
  {
   "cell_type": "code",
   "execution_count": 15,
   "metadata": {},
   "outputs": [],
   "source": [
    "test2019 = total2019[total2019.position.str.endswith('F')]\n",
    "test2019 = test2019[['Name', 'Fld', 'sprint_speed', 'hp_to_1b']]\n",
    "test2019 = test2019.dropna(subset=['Fld', 'sprint_speed', 'hp_to_1b'])"
   ]
  },
  {
   "cell_type": "code",
   "execution_count": 20,
   "metadata": {},
   "outputs": [],
   "source": [
    "sco2 = mdl.score(test2019[['sprint_speed', 'hp_to_1b']], test2019.Fld)\n",
    "predict2 = mdl.predict(test2019[['sprint_speed', 'hp_to_1b']])"
   ]
  },
  {
   "cell_type": "code",
   "execution_count": 21,
   "metadata": {},
   "outputs": [
    {
     "data": {
      "image/png": "[encoded data removed]",
      "text/plain": [
       "<Figure size 432x288 with 1 Axes>"
      ]
     },
     "metadata": {
      "needs_background": "light"
     },
     "output_type": "display_data"
    }
   ],
   "source": [
    "plt.scatter(test2019.Fld, predict2)\n",
    "plt.title(f'R2 of {round(sco2,2)}')\n",
    "plt.show()"
   ]
  },
  {
   "cell_type": "code",
   "execution_count": 22,
   "metadata": {},
   "outputs": [],
   "source": [
    "## WELP. DOESN'T WORK, I GUESS ¯\\_(ツ)_/¯."
   ]
  },
  {
   "cell_type": "code",
   "execution_count": null,
   "metadata": {},
   "outputs": [],
   "source": []
  }
 ],
 "metadata": {
  "kernelspec": {
   "display_name": "Python 3",
   "language": "python",
   "name": "python3"
  },
  "language_info": {
   "codemirror_mode": {
    "name": "ipython",
    "version": 3
   },
   "file_extension": ".py",
   "mimetype": "text/x-python",
   "name": "python",
   "nbconvert_exporter": "python",
   "pygments_lexer": "ipython3",
   "version": "3.7.1"
  }
 },
 "nbformat": 4,
 "nbformat_minor": 2
}
