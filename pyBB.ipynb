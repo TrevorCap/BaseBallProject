{
 "cells": [
  {
   "cell_type": "code",
   "execution_count": 2,
   "metadata": {},
   "outputs": [],
   "source": [
    "from bs4 import BeautifulSoup\n",
    "import requests\n",
    "import pandas as pd\n"
   ]
  },
  {
   "cell_type": "code",
   "execution_count": 3,
   "metadata": {},
   "outputs": [],
   "source": [
    "stat_data = pd.read_csv(\"sprint_speed.csv\")"
   ]
  },
  {
   "cell_type": "code",
   "execution_count": 4,
   "metadata": {},
   "outputs": [
    {
     "data": {
      "text/html": [
       "<div>\n",
       "<style scoped>\n",
       "    .dataframe tbody tr th:only-of-type {\n",
       "        vertical-align: middle;\n",
       "    }\n",
       "\n",
       "    .dataframe tbody tr th {\n",
       "        vertical-align: top;\n",
       "    }\n",
       "\n",
       "    .dataframe thead th {\n",
       "        text-align: right;\n",
       "    }\n",
       "</style>\n",
       "<table border=\"1\" class=\"dataframe\">\n",
       "  <thead>\n",
       "    <tr style=\"text-align: right;\">\n",
       "      <th></th>\n",
       "      <th>last_name</th>\n",
       "      <th>first_name</th>\n",
       "      <th>player_id</th>\n",
       "      <th>team_id</th>\n",
       "      <th>team</th>\n",
       "      <th>position</th>\n",
       "      <th>age</th>\n",
       "      <th>competitive_runs</th>\n",
       "      <th>hp_to_1b</th>\n",
       "      <th>sprint_speed</th>\n",
       "    </tr>\n",
       "  </thead>\n",
       "  <tbody>\n",
       "    <tr>\n",
       "      <th>0</th>\n",
       "      <td>Buxton</td>\n",
       "      <td>Byron</td>\n",
       "      <td>621439</td>\n",
       "      <td>142</td>\n",
       "      <td>MIN</td>\n",
       "      <td>CF</td>\n",
       "      <td>26</td>\n",
       "      <td>42</td>\n",
       "      <td>NaN</td>\n",
       "      <td>30.4</td>\n",
       "    </tr>\n",
       "    <tr>\n",
       "      <th>1</th>\n",
       "      <td>Galloway</td>\n",
       "      <td>Isaac</td>\n",
       "      <td>543194</td>\n",
       "      <td>146</td>\n",
       "      <td>MIA</td>\n",
       "      <td>CF</td>\n",
       "      <td>30</td>\n",
       "      <td>20</td>\n",
       "      <td>4.13</td>\n",
       "      <td>30.1</td>\n",
       "    </tr>\n",
       "    <tr>\n",
       "      <th>2</th>\n",
       "      <td>Gore</td>\n",
       "      <td>Terrance</td>\n",
       "      <td>605253</td>\n",
       "      <td>118</td>\n",
       "      <td>KC</td>\n",
       "      <td>LF</td>\n",
       "      <td>28</td>\n",
       "      <td>16</td>\n",
       "      <td>NaN</td>\n",
       "      <td>30.0</td>\n",
       "    </tr>\n",
       "    <tr>\n",
       "      <th>3</th>\n",
       "      <td>Mondesi</td>\n",
       "      <td>Adalberto</td>\n",
       "      <td>609275</td>\n",
       "      <td>118</td>\n",
       "      <td>KC</td>\n",
       "      <td>SS</td>\n",
       "      <td>24</td>\n",
       "      <td>61</td>\n",
       "      <td>NaN</td>\n",
       "      <td>30.0</td>\n",
       "    </tr>\n",
       "    <tr>\n",
       "      <th>4</th>\n",
       "      <td>Berti</td>\n",
       "      <td>Jon</td>\n",
       "      <td>542932</td>\n",
       "      <td>146</td>\n",
       "      <td>MIA</td>\n",
       "      <td>3B</td>\n",
       "      <td>29</td>\n",
       "      <td>28</td>\n",
       "      <td>NaN</td>\n",
       "      <td>30.0</td>\n",
       "    </tr>\n",
       "  </tbody>\n",
       "</table>\n",
       "</div>"
      ],
      "text/plain": [
       "  last_name  first_name  player_id  team_id team position  age  \\\n",
       "0    Buxton       Byron     621439      142  MIN       CF   26   \n",
       "1  Galloway       Isaac     543194      146  MIA       CF   30   \n",
       "2      Gore    Terrance     605253      118   KC       LF   28   \n",
       "3   Mondesi   Adalberto     609275      118   KC       SS   24   \n",
       "4     Berti         Jon     542932      146  MIA       3B   29   \n",
       "\n",
       "   competitive_runs  hp_to_1b  sprint_speed  \n",
       "0                42       NaN          30.4  \n",
       "1                20      4.13          30.1  \n",
       "2                16       NaN          30.0  \n",
       "3                61       NaN          30.0  \n",
       "4                28       NaN          30.0  "
      ]
     },
     "execution_count": 4,
     "metadata": {},
     "output_type": "execute_result"
    }
   ],
   "source": [
    "stat_data.head()"
   ]
  },
  {
   "cell_type": "code",
   "execution_count": 6,
   "metadata": {},
   "outputs": [],
   "source": []
  },
  {
   "cell_type": "code",
   "execution_count": null,
   "metadata": {},
   "outputs": [],
   "source": []
  },
  {
   "cell_type": "code",
   "execution_count": 11,
   "metadata": {},
   "outputs": [],
   "source": []
  },
  {
   "cell_type": "code",
   "execution_count": null,
   "metadata": {},
   "outputs": [],
   "source": []
  },
  {
   "cell_type": "code",
   "execution_count": null,
   "metadata": {},
   "outputs": [],
   "source": []
  }
 ],
 "metadata": {
  "kernelspec": {
   "display_name": "Python 3",
   "language": "python",
   "name": "python3"
  },
  "language_info": {
   "codemirror_mode": {
    "name": "ipython",
    "version": 3
   },
   "file_extension": ".py",
   "mimetype": "text/x-python",
   "name": "python",
   "nbconvert_exporter": "python",
   "pygments_lexer": "ipython3",
   "version": "3.7.1"
  }
 },
 "nbformat": 4,
 "nbformat_minor": 2
}
